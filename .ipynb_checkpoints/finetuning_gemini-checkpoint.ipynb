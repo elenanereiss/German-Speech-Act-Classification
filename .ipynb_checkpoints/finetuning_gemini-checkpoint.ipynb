{
 "cells": [
  {
   "cell_type": "markdown",
   "metadata": {
    "id": "dMXhBQX8DkOZ"
   },
   "source": [
    "# Fine-tuning of Gemini 1.5 flash\n",
    "\n",
    "For more details see https://ai.google.dev/gemini-api/docs/model-tuning/tutorial?lang=python\n",
    "\n",
    "### Limitations\n",
    "\n",
    "Before tuning a model, you should be aware of the following limitations:\n",
    "\n",
    "### Fine-tuning datasets\n",
    "\n",
    "Fine-tuning datasets for Gemini 1.5 Flash have the following limitations:\n",
    "\n",
    "- The maximum input size per example is 40,000 characters.\n",
    "- The maximum output size per example is 5,000 characters.\n",
    "- Only input-output pair examples are supported. Chat-style multi-turn conversations are not supported.\n",
    "\n",
    "### Tuned models\n",
    "\n",
    "Tuned models have the following limitations:\n",
    "\n",
    "- The input limit of a tuned Gemini 1.5 Flash model is 40,000 characters.\n",
    "- JSON mode is not supported with tuned models.\n",
    "- Only text input is supported.\n",
    "\n",
    "## Before you begin: Set up your project and API key\n",
    "\n",
    "Before calling the Gemini API, you need to set up your project and configure your API key.\n",
    "\n",
    "To get api key visit https://aistudio.google.com/app/apikey."
   ]
  },
  {
   "cell_type": "code",
   "execution_count": 1,
   "metadata": {
    "id": "HVGww8RPVCMA"
   },
   "outputs": [],
   "source": [
    "!pip install -q google-generativeai"
   ]
  },
  {
   "cell_type": "code",
   "execution_count": 2,
   "metadata": {
    "id": "7NCmRSQ6Ia1h"
   },
   "outputs": [],
   "source": [
    "import google.generativeai as genai\n",
    "from google.colab import userdata\n",
    "\n",
    "# Store your API key as a secret first. Replace 'YOUR_API_KEY' with your actual key.\n",
    "import google.generativeai as genai\n",
    "from google.colab import userdata\n",
    "\n",
    "# To get api key visit https://aistudio.google.com/app/apikey\n",
    "GOOGLE_API_KEY='YOUR_API_KEY'\n",
    "genai.configure(api_key=GOOGLE_API_KEY)"
   ]
  },
  {
   "cell_type": "code",
   "execution_count": 7,
   "metadata": {
    "colab": {
     "base_uri": "https://localhost:8080/",
     "height": 69
    },
    "id": "Leo96cfVLAvc",
    "outputId": "a6dd34d3-c1dc-4be4-f3c4-766211a966f2"
   },
   "outputs": [
    {
     "name": "stdout",
     "output_type": "stream",
     "text": [
      "Fine-tuning of gemini-1.5-flash-001-tuning\n",
      "Granularity level - coarse-grained speech acts\n",
      "Fold number 3\n"
     ]
    }
   ],
   "source": [
    "base_model = [\n",
    "    m for m in genai.list_models()\n",
    "    if \"createTunedModel\" in m.supported_generation_methods and\n",
    "    \"flash\" in m.name][0]\n",
    "# base_model\n",
    "\n",
    "task=\"sa_coarse\"\n",
    "cv_number=3\n",
    "\n",
    "print(\"Fine-tuning of {}\\nGranularity level - {}-grained speech acts\\nFold number {}\".format(base_model.name.replace(\"models/\", \"\"), task.replace(\"sa_\", \"\"), str(cv_number)))"
   ]
  },
  {
   "cell_type": "markdown",
   "metadata": {
    "id": "VFpMQvmLD3bW"
   },
   "source": [
    "### Read dataset\n",
    "\n",
    "Please load a dataset split to `/content/sample_data`."
   ]
  },
  {
   "cell_type": "code",
   "execution_count": 8,
   "metadata": {
    "colab": {
     "base_uri": "https://localhost:8080/"
    },
    "id": "EJFh95XxPZo2",
    "outputId": "43e7536b-296a-4716-de01-7fa4ab062480"
   },
   "outputs": [
    {
     "name": "stdout",
     "output_type": "stream",
     "text": [
      "[\n",
      "    {\n",
      "        \"text_input\": \"@Tigerelch @marcobuelow\",\n",
      "        \"output\": \"DIRECTIVE\"\n",
      "    },\n",
      "    {\n",
      "        \"text_input\": \"fragt die deutschen Staatsbürger,\",\n",
      "        \"output\": \"DIRECTIVE\"\n",
      "    },\n",
      "    {\n",
      "        \"text_input\": \"Ich finde Claudia #Roth auch ekelhaft, und ich gehe noch viel weiter.\",\n",
      "        \"output\": \"EXPRESSIVE\"\n",
      "    },\n",
      "    {\n",
      "        \"text_input\": \"\\\"Mutti\\\" hat nur Flintenuschis Schnullertruppe\",\n",
      "        \"output\": \"ASSERTIVE\"\n",
      "    },\n",
      "    {\n",
      "        \"text_input\": \"es muss verhindert werden dass das auf andere Städte übergreift.\",\n",
      "        \"output\": \"ASSERTIVE\"\n",
      "    }\n",
      "]\n"
     ]
    }
   ],
   "source": [
    "import pandas as pd\n",
    "import json\n",
    "\n",
    "def read_dataset(path, split, task):\n",
    "    # Read dataset\n",
    "    with open(path, encoding=\"utf8\") as train_file:\n",
    "        dataset_train = json.load(train_file)\n",
    "        dataset_train = dataset_train[split]\n",
    "\n",
    "    column_names=['title', 'sa_coarse', 'sa_fine', 'sa_fine_modified', 'hate_speech']\n",
    "    column_names.remove(task)\n",
    "\n",
    "\n",
    "    # converting json dataset from dictionary to dataframe\n",
    "    train = pd.DataFrame.from_dict(dataset_train)#, columns=['text', 'sa_fine_modified'])\n",
    "    train = train.drop(columns=column_names)\n",
    "    train=train.rename(columns={task: \"output\", \"text\": \"text_input\"})\n",
    "    return train\n",
    "\n",
    "file = \"/content/sample_data/{}_cv{}.json\".format(task.replace(\"sa_\", \"\"), str(cv_number))\n",
    "train=read_dataset(file, \"train\", task)\n",
    "\n",
    "train= json.loads(train.to_json(orient='records', force_ascii=False))\n",
    "print(json.dumps(train[:5], indent=4, ensure_ascii=False))"
   ]
  },
  {
   "cell_type": "markdown",
   "metadata": {
    "id": "5TRHHg5VESbQ"
   },
   "source": [
    "### Training\n",
    "\n",
    "We used default hyperparameters proposed in https://ai.google.dev/gemini-api/docs/model-tuning/tutorial?lang=python.\n",
    "\n",
    "The optimal values for epoch count, batch size, and learning rate are dependent on your dataset and other constraints of your use case. To learn more about these values, see [Advanced tuning settings](https://ai.google.dev/gemini-api/docs/model-tuning#advanced-settings) and [Hyperparameters](https://ai.google.dev/api/tuning#Hyperparameters)."
   ]
  },
  {
   "cell_type": "code",
   "execution_count": 10,
   "metadata": {
    "colab": {
     "base_uri": "https://localhost:8080/",
     "height": 34
    },
    "id": "Ex2xc7xwNJBF",
    "outputId": "2ab9b714-22e3-47e1-8602-263009c66e0a"
   },
   "outputs": [
    {
     "name": "stdout",
     "output_type": "stream",
     "text": [
      "speechacts-coarse3-9437\n"
     ]
    }
   ],
   "source": [
    "import random\n",
    "\n",
    "name = 'speechacts-{}{}-{}'.format(task.replace(\"sa_\", \"\"), str(cv_number), random.randint(0,10000))\n",
    "print(name)\n",
    "operation = genai.create_tuned_model(\n",
    "    # You can use a tuned model here too. Set `source_model=\"tunedModels/...\"`\n",
    "    source_model=base_model.name,\n",
    "    training_data=train,\n",
    "    id = name,\n",
    "    epoch_count = 20,\n",
    "    batch_size=8,\n",
    "    learning_rate=0.001,\n",
    ")\n",
    "\n",
    "\n"
   ]
  },
  {
   "cell_type": "markdown",
   "metadata": {
    "id": "Ey17FMNgEYQC"
   },
   "source": [
    "### Check tuning progress\n",
    "\n",
    "You can check on the progress of the tuning operation using the `wait_bar()` method.\n",
    "\n",
    "You can also use `operation.metadata` to check the total number of tuning steps and `operation.update()` to refresh the status of the operation.\n",
    "\n",
    "You can cancel your tuning job any time using the `operation.cancel()` method."
   ]
  },
  {
   "cell_type": "code",
   "execution_count": 11,
   "metadata": {
    "colab": {
     "base_uri": "https://localhost:8080/",
     "height": 49,
     "referenced_widgets": [
      "c4648f194ff7475ab5b8dbf769ea0500",
      "a32940bc202343cebcbe3da3b15101dc",
      "b2b9872a8dcc49368f1e68eaaf54a766",
      "c8c7483aeba9483f9217710fdcf10e41",
      "e777f15728d5417d9ad122146b04a9fe",
      "03ee09bb39484f93a256467d14de1dfa",
      "cae83070debb4105a8d1823954dd86ac",
      "3b827b7adc04420c8dc52b494f1df12d",
      "1c6ee0cf257040eab91e8981a7b6fc6a",
      "02ac726f68cd480e912f4e9fe19b97f0",
      "3e66b8195f414a91a363a824a11fd6af"
     ]
    },
    "id": "I4zonTK2Qq4a",
    "outputId": "26b9b353-a8e2-4e73-ebd6-91031058bbeb"
   },
   "outputs": [
    {
     "data": {
      "application/vnd.jupyter.widget-view+json": {
       "model_id": "c4648f194ff7475ab5b8dbf769ea0500",
       "version_major": 2,
       "version_minor": 0
      },
      "text/plain": [
       "  0%|          | 0/490 [00:00<?, ?it/s]"
      ]
     },
     "metadata": {},
     "output_type": "display_data"
    }
   ],
   "source": [
    "import time\n",
    "\n",
    "for status in operation.wait_bar():\n",
    "    time.sleep(30)"
   ]
  },
  {
   "cell_type": "markdown",
   "metadata": {
    "id": "laKy4JWwEaLy"
   },
   "source": [
    "Once the tuning is complete, you can view the loss curve from the tuning results. The [loss curve](https://www.google.com/url?q=https%3A%2F%2Fai.google.dev%2Fgemini-api%2Fdocs%2Fmodel-tuning%23recommended_configurations) shows how much the model's predictions deviate from the ideal outputs."
   ]
  },
  {
   "cell_type": "code",
   "execution_count": 12,
   "metadata": {
    "colab": {
     "base_uri": "https://localhost:8080/",
     "height": 466
    },
    "id": "JYHmmFOBBaZD",
    "outputId": "cf0ce935-fbdf-4aec-b82a-f5895fd392a5"
   },
   "outputs": [
    {
     "data": {
      "text/plain": [
       "<Axes: xlabel='epoch', ylabel='mean_loss'>"
      ]
     },
     "execution_count": 12,
     "metadata": {},
     "output_type": "execute_result"
    },
    {
     "data": {
      "image/png": "[encoded data removed]",
      "text/plain": [
       "<Figure size 640x480 with 1 Axes>"
      ]
     },
     "metadata": {},
     "output_type": "display_data"
    }
   ],
   "source": [
    "import pandas as pd\n",
    "import seaborn as sns\n",
    "\n",
    "model = operation.result()\n",
    "\n",
    "snapshots = pd.DataFrame(model.tuning_task.snapshots)\n",
    "\n",
    "sns.lineplot(data=snapshots, x = 'epoch', y='mean_loss')"
   ]
  },
  {
   "cell_type": "markdown",
   "metadata": {
    "id": "kXIxLrB0ErGm"
   },
   "source": [
    "You can check you existing tuned models with the `genai.list_tuned_model` method."
   ]
  },
  {
   "cell_type": "code",
   "execution_count": 17,
   "metadata": {
    "colab": {
     "base_uri": "https://localhost:8080/",
     "height": 191
    },
    "id": "9DRV5_1j4sMy",
    "outputId": "3d1abf9b-e180-442c-c2c3-8e515de16dd7"
   },
   "outputs": [
    {
     "name": "stdout",
     "output_type": "stream",
     "text": [
      "tunedModels/speechacts-fein0-2975\n",
      "tunedModels/speechacts-fein1-4339\n",
      "tunedModels/speechacts-fein2-6672\n",
      "tunedModels/speechacts-fein3-2862\n",
      "tunedModels/speechacts-fein4-3226\n",
      "tunedModels/speechacts-coarse0-8676\n",
      "tunedModels/speechacts-coarse1-278\n",
      "tunedModels/speechacts-coarse2-9616\n",
      "tunedModels/speechacts-coarse4-7365\n",
      "tunedModels/speechacts-coarse3-9437\n"
     ]
    }
   ],
   "source": [
    "for i, m in zip(range(15), genai.list_tuned_models()):\n",
    "    print(m.name)"
   ]
  },
  {
   "cell_type": "markdown",
   "metadata": {
    "id": "I8HvAMaIFBrJ"
   },
   "source": [
    "### Delete the model\n",
    "\n",
    "You can clean up your tuned model list by deleting models you no longer need. Use the `genai.delete_tuned_model` method to delete a model. If you canceled any tuning jobs, you may want to delete those as their performance may be unpredictable."
   ]
  },
  {
   "cell_type": "code",
   "execution_count": 16,
   "metadata": {
    "id": "H5UWe4hr3EPB"
   },
   "outputs": [],
   "source": [
    "genai.delete_tuned_model(\"tunedModels/speechacts-coarse3-3788\")"
   ]
  },
  {
   "cell_type": "markdown",
   "metadata": {
    "id": "DvKkn1M0FiXj"
   },
   "source": [
    "## Evaluation\n"
   ]
  },
  {
   "cell_type": "code",
   "execution_count": 18,
   "metadata": {
    "colab": {
     "base_uri": "https://localhost:8080/"
    },
    "id": "UQb1JV3_YjUN",
    "outputId": "b6631142-ebf8-4588-e796-e7c168a684c8"
   },
   "outputs": [
    {
     "name": "stdout",
     "output_type": "stream",
     "text": [
      "['|LBR| Sie haben es versucht |LBR| Doch es nie geschafft', 'Du bist als Muslima aber kein Ausdruck verschiedener Religionen.', '#ErdoganNotWelcome', 'Alles fürs eigene Volk hieß es damals noch!.', '#fcsp', 'Sie nährt sich aus einem total diffusen, ungerichteten Gefühl der Unzufriedenheit.', 'die sind halt Teil unserer kranken Gesellschaft.', '|LBR| Wer bis Ende des Jahres noch steht hat gewonnen!', 'checkst du das nicht?', '#incel\"', '@KokoLores20', 'Gibt es echt so viele Naivlinge?', 'Interview mit Ragdahd.', 'Dieses linke Schmierblatt und andere, hab ich schon lange geblockt.', 'Die gibt es zuhauf!', 'Claudi Roth mal wieder peinlich.', '@RolandTichy', 'Das Tempolimit ist mir sowas von scheissegal.', 'Es gibt nicht \"islamistisch\",', 'Unwählbar.', '... es ist ein Segen', 'allein der Begriff \"Werbeverbot\"unterstellt einerseits Geldgier bei den Ärzten und |LBR| Leichtfertigkeit bei den Frauen.', 'wir sehen die Jetzigen interessiert doch gar nicht was jeden Tag passiert', '@66Norweger66', 'Niemand, der vor Krieg flüchtet, lässt seine Familie in einem Kriegsgebiet zurück.', 'Ist ne Kampagne der Gutmenschen, sich dieser Umfrage besonders anzunehmen.', 'Einfach nur ekelhaft, widerlich und demnächst unter 5%', '|LBR| Dafür sind die Proteste der Gelbwesten sind jetzt schon tabu auf Twitter.', 'Ich fordere Sie auf: handeln Sie @NATO !!', 'Wann hört diese wahnsinnige LINKSGRÜNE Scheiße vonwegen \"Einladung an alle kriminellen Moslems\" der Welt auf ??', 'Das Element soll sich um seine pädophilen Freunde kümmern!', '|LBR| Nicht nur die May auch das Deutsche Volk..', 'Wenn man nur genug scheiße baut, werden Ad Hominem Argumente auf einmal legitim:', '|LBR| Hokuspokus #Focus', 'Bei dem UNRECHTSSYSTEM wäre doch mal ein Militärputsch schön um 🇩🇪zu retten !!!', 'nützt alles nix!', '- #Tagesschau sendet bereits im #Scharia-Modus', '@jazzlover2021 @Steffmann45 @DerGermane2', 'Für die von Ihnen kolonisierten Völker sind alle Europäer \"Weiße\"...', '@hassanhadjali', '🤕🧕', '@Dimmo52 @Fern_Schreiber', '@tagesschau', 'Und die Legalisierung der #Pädophile durch die #Grünen', 'In der Kolonie gibt es sogar Museeun für Terrorbanden wie die IRGUN.', '...Dem Fehlschluss dass eine These bewiesen ist, wenn sie nicht zu 100% entkräftet werden kann.', '😡😡', 'Das sind eben keine Profis.', 'das gehört eindeutig entsorgt...!', \"Khalil, Die Flucht aus Syrien |LBR| o. |LBR| Wie ich ein ganzes Volk verarschte, weil ich ja eigentlich gar kein Flüchtling war, mehrere falsche Identitäten hatte, meine Steinzeitreligion unter's Volk brachte, beim Alter log und illegal einreiste.\", 'wahrscheinlich nur verschrieben oder?', 'Wer drüber über maxi ist bekommt noch,', 'Nur noch ein Glas Wein.', 'Darf man eigentlich noch sagen, Deutschland den deutschen Ausländer raus?', '@welt', 'Sprechen oder sogar etwas gegen Kinderarmut Hartz IV Armut Rentenarmut Hungerlöhne tun so etwas machen Politiker nicht.', '@de_sputnik @MarcelJoppa', '|LBR| Keine Trauer.', 'fischerhut tragender minderjähriger druffi der sein pep in davidsternline von nem bibi bild rotzt und dabei egotronic hört ist wohl rr das bild was menschen von *der szene* haben', 'War quasi die Einstiegsdroge für Alkohol und zuviel Zucker.', '@er1k_w @Ralf_Stegner', 'Schlafrythmus is ja generell im Arsch aber die letzten Tage steckt er so tief drin dass ich Sodbrennen von bekomme', 'Da sind doch auf der Kehrseite schon die Reichsdeutschen mit ihren Flugscheiben -UFOS.', 'Wenn ich das hochgestochene Dummgeschwätz von Cem 🇹🇷 höre verstehe ich warum so viele die AFD wählen', 'Bestes AfD Werbepferd.', 'diese Gestalten haben mich blockiert, weil ich bei diesen Linksdeutschen als Nazi gelte', 'Ist es \"White Supremacy\", Wenn man feststellt, dass Juden zu den Klügsten zählen, Asiaten im Schnitt 5% über den Weißen liegen, diese im Mittelfeld der Normalintelligenz, gefolgt von Latinos und Schlusslicht Schwarze?', 'OK.....!', '|LBR| Die Völker müssen zeigen das sie diese Scheiß Armutspolitik nicht mehr mit machen.', 'Du sagst es.....', '🖕🏻', '|LBR| Heißer Sommer = Klimawandel', 'Von diesen 17 Mio sprachen wieviel D, waren wieviel arbeitsfähig und willig, mit unserer Kultur halbwegs vertraut, haben andere Religionen akzeptiert, haben Frauen respektiert,zeigten Empathie bei Kindern und Tieren, waren Menschen wie du und ich.', '@Quatrofinia @ulschzi @Tinimaus1110', 'Was nicht geschah...', '@kneipenjenki @Vulgaerbahamit', 'Fett gepamperte Zugpferde sämtlicher arabischer Islamlobbys.', 'Flüchtlingen helfen, bedeutet auch, mal so nebenbei das Leben zu verlieren.', '5 Monate Untersuchungshaft wegen Benutzung eines Laserpointers.', 'Heute nacht wird Arschloch Trump zum Präsident gewählt ... nur mal so', 'Die Knechte der Amis werden ihrer Strafe nicht entgehen!', 'Und das rund um die Uhr.', '👍🤗', 'andere müssen auch 2 oder 3 Jobs haben um wenigstens die Miete Zahlen zu können.', 'Das sind Analphabeten', 'Die staatliche Förderung, für die Aufnahme von #Goldstücken hat der korrupte Bürgermeister ja bestimmt gierig eingesteckt', '|LBR| Mal wieder Doppelte Standards bei unseren \"unabhängigen\"Propagandaschleudern...', '@_Rosenkavalier_', 'ekelhaft und abartig, ist noch milde ausgedrückt!', '|LBR| Ich sehe Israel als Enklave von Freiheit und Demokratie inmitten feindseliger archaischer Islamdiktaturen, mit absoluten Verteidigungsrecht, und die deutsche Subventionierung der Hamas für unterirdische Doppelmoral!', '@mdrkultur', 'Ich weiß halt, wie man Frauen zum Miauen bringt', 'Es sei denn, man legt Wert auf Destabilisierung seiner Heimat, Verlust sämtlicher Werte, die das Land einst voran brachten.', '@begenrogenschaf', '#Lindner', 'wir sind übersät mit Unkraut und das werden wir nie wieder los...!', 'Und unsere Träumer glauben, dass sie diese wilden bekehren können.', '@marctailer3 @Wahemue', '😂 😂 😂', '|LBR| Psychoterror mit Worten.', '@Jutta98811424 @GeorgKleine @sozi0815 @WildeGesellin', 'Schadet volkskörper wa ...', '\"Wären die Kinder die in Kinderarmut \"Leben\"eine Bank, hätte man sie schon längst gerettet\"', '@hundimbuero', 'Niemand möchte Wahrheiten über die Wilden hören.', 'Psst, ich verrate Euch ein Geheimnis aus der Frauenwelt.', '|LBR| Aber was erwarte ich von moralisch minderbemittelten Rechtsradikalen mit Vorliebe für Kolonialismus und Völkermord?', 'Das Geseiere dieses Pfaffen Gauck widert jeden Aufrechten nur an!', 'Dieses heuchlerische Weib !', 'Wenn die Nahles mir sagen würde, dass heute Mittwoch ist, würde ich mir zur Sicherheit lieber einen Kalender kaufen.', '#cdu', 'Regeln wie im 3.Reich.', 'ich meine auf jeder größeren demo siehst du die jw fahnen,', 'Es sei deshalb albern/überflüssig/Teil eines Plans zur feministischen Weltherrschaft, auf sprachlichen Alternativen zu bestehen.\"', '😂', 'Liberale sind Nazis im Wartestand.', '|LBR| Es scheint,als seien Sie vor allem enttäuscht von der #SPD.', 'Irgendein armes Arschlich wird als Bauernopfer vorgeführt, doch die Spitze der politischen Korruption, #VonderLeyen #CDU wird weiterhin, ungeschoren Ihr Unwesen treiben.', 'die scheiß schmarotzenden Ossis braucht kein Mensch', 'ich unterteile in nur 2 Kategorien: Arm...loch oder Nicht-Arm...Loch.', '|LBR| Aber ansonsten ist alles genau so passiert!', '|LBR| Man muss den deutschen Außenminister ja vor der kompletten Bloßstellung bewahren!', '|LBR| Kalter Winter = Klimawandel', 'anchmal kotzt mich der Dogmatismus der Linken so sehr an.', 'dass kann doch nicht wahr sein in diesem unserem Lande', 'Rentner durchsuchen Mülleimer, während Asylbetrüger und Wirtschaftsmigranten bei geöffneten Fenster die Heizungen aufdrehen.', 'Naja, Bochum hat eben das \"unabsteigbar\"immer noch nicht überwunden', '@Dr_Tati_vanT @HeikoMaas', '🤭', 'Sogar Nano-Teilchen sind grösser.', 'Offensichtlich sind sie für Sie wertloser als Europäer, denen sie zugestehen, sie für Lebensraum im Nahen Osten zu vertreiben und zu ermorden.', '👍', '@nprncbl @AuswaertigesAmt', 'ich komme grade vom Einkaufen und musste wieder an der #Tafel Suppenküche vorbei', 'Du küsst bestimmt auch jeden.', 'geht auf die Straße.', '@bertramscharpf @Arnd_Schumacher @janfleischhauer @NorbertBolz', 'Ich möchte mich bei allen #SPD #Grünen Politiker Mitgliedern recht herzlich bedanken,', '31.01.92, Lampertheim: Eine Flüchtlingsunterkunft wird angezündet,', 'Die BRD ist eine einzige Schande', 'Einfach alles.', 'Die sogenannte Umwelthilfe kann sich ins Knie ficken, multipel und knochentrocken', '|LBR| Schlägt die Söhne mit allem, was er in die Hand bekommt.', '@klammerdackel @Mr_Empty_hier', 'ihr Schweine', 'Deutschland 2019,', 'Sie hängt von der Abstammung ab.', 'Ein Afrikaner der in China lebt oder geboren ist, ist dann WAS?', '@DerGegenspieler', 'Damit der ausgediente deutsche Diesel als \"Gute Tat\"nach Afrika verschifft wird, weil die keine Richtwerte haben?', 'Päderasten und Deutschlandfeinde.', '|LBR| Ihre Lügen sind unsere Kraft', '|LBR| Hirne voller Scheiße', 'Aber die Vorhaltungen die ihm jetzt gemacht werden ist billigstes Nachtreten.', '@dcxxx187', 'Und wer mal drei Monate Hungern muss wird JEDEN Job anehmen für jeden Hungerlohn.', '@Einzelfallinfos @ibikus31', '@AcarLukas @allesevolution', '|LBR| Da kann man doch nur noch, nach vorne Essen', 'wie mich dieses autoritäre identitäre gehabe einfach nur noch abfuckt.', '🖕🏻', 'um dies zu verhindern, wurden UN und internationales Recht geschaffen.', 'Wegen der Kopfwindel?', 'Das muss die \"Religion des Friedens sein\"von dem alle, plötzlich so begeistert sind', '@miguel_alemania @HAZ @hannover', '|LBR| Echtes Kunststück, dass sich da nicht ausnahmslos jeder verarscht fühlt.', 'Ja!', 'Dumm -Deutscher halt!!!!', 'Eine \"Sie\"also...', '|LBR| ableistisch auch noch?', '|LBR| Clinton |LBR| Der Antichrist !!!!', 'Aber irgendwelche abseitigen \"Ich werfe mit Scheiße\"-Accounts?', ':-(', 'Danke dafür,', 'Es ist wirklich grauenhaft, oder?', 'raus aus Deutschland.', 'Du bist eine religiöse Fanatikerin.', '|LBR| Arme Deutsche Bürger,', '@toteraufurlaub @togliatti47', 'Trump würde ich noch wegen Nachrichtenwert akzeptieren.', 'Geh kacken,', '|LBR| Ich blocke den jetzt, weil bei ihm und seiner Blase wachsen mir sonst noch rosa Häschenohren!', '#fcsp', 'Dann werden die Pickelgesichter bekommen was sie verdienen.', 'Macht endlich diesen umweltheinis einen heißen Hintern', 'Biologisch sind wir Säugetiere, doch unsere kognitiven Fähigkeiten befähigen uns zur Umgestaltung unserer Lebenswelt, Weitergabe von Wissen, Schaffen gemeinsamer Kultur, Abstraktion bis zur mathematischen Formalsprache.', 'Außer wir Nazis natürlich', 'Regensburg hatte nur Glück ...', 'Hinter dem Kapital steht der Faschismus!', '😇😅', 'Sie sollten dringend ärztlichen Beistand suchen.', '@allesVersuch', '@TobiasHuch', 'Kataras und Tophs Sprecher sind Bae und Zuko klingt nicht als hätte ihn sein Vater zur Narbe auchnoch kastriert', 'Deutschland wacht auf, Herr Restle.', '@HgnvonTraene', 'Vielleicht hatte sie ihre Tage, oder so.', 'unter Stalin hätte er die ganze Autobahn alleine bauen müssen', '#SPD Kampfkandidaturen über ihre Liste für die Wahl zum #EU-Parlament', '@SPIEGELONLINE', '@Anke52936620 @Galactica2019 @Adolfion2X44 @frazionetoskana @RSigurdurson @outofvalhalla @Futureworldxxl @Lanyihunter1 @assassina36 @karina140911 @bergifrau00', '|LBR| #4genderstudies', '#ARD', 'Hoffentlich finden Sie alle Schweine!', 'Steht ja in Deinem Heiligen Buch drin.', '@Bea76190653 @Tapetenlama', 'Ist abgehört worden.', 'mir klappen Dien Fußnägel hoch', 'werde auf dem weg nach brandenburg im zug von den alten provinzfaschos begrüßt.', '@VonSchwer @Tinimaus1110 @SPIEGELONLINE', 'WTF?', '@GeorgKleine @APVogt @WildeGesellin', '@DanielDOrville2 @jogginghosenafa', '|LBR| Was trennt Menschen von Tieren?', '\"Verdientes Remis\"?', 'Das ist ja gerade das gruselige.', '@bestdamnalex', '@rene_tudor @BjoernHoecke', 'Antisemitismus-Keule nehmen, mit Vaseline beschmieren und rektal einführen...', 'SED treu.', 'Am besten, keine Artikel mehr twittern, nicht mehr folgen', '|LBR| Anders als unsere lustlose Fußball-Truppe gleichen Namens, bestehend aus verzogenen Balltretern, die alles mögliche, nur keine Mannschaft sind.', 'Der Bastard ist in Afghanistan untergetaucht!', '@PolitburoGamer', '|LBR| Die linke,deutsch/islamische #Bundesregierung kann den #korantreuen #Moslems #IS #Hamas doch gleich den Schlüssel zu Deutschland überreichen.', 'Aber das erwarte ich von einer Muslima auch nicht.', 'sag bescheid, wenn er zu Scheiße geworden ist', 'Die mutigen Journalisten von #AlJazeera -', '@ThomasWalde @ZDF', 'Next up: |LBR| \"Die Kolonialisierung der Studentenhirne - Lyzis Welt über 40 Jahre kritische Poptheorie\"', 'Ist das nicht die mit den vielen Analphabeten in ihrer Familie..?', '@SPIEGEL_Politik', 'Fickt doch eure dummen Feuerwerke', '#maischberger', 'Africhinese.', '#CDU-Generalsekretär |LBR| #Ziemiak lässt Amt als JU-Chef ruhen,', 'Wer sich von Zionisten für Propaganda ein Gehalt bezahlen lässt, ist alles andere, aber nicht unabhängig.', '@friesbol @klasnaborba', 'Kann jeder googeln.', '@DeutschPI', 'Diese Islam existiert aber nur und ausschließlich in den Taquia Reden der Talkshow-Virzeigemoslems', 'Da Kinder schänden, im #Islam kein wirkliches Verbrechen ist.', 'heiligsblechle...', 'Nur, dass diese Sorte Mensch vorher von keinen Befürchtungen etwas wissen wollte, solange aus der Sache Selbstbestätigung resultierte.', 'Keine Verzweiflung.', 'Typisch deutsche Schülerin.', 'Größenwahnsinnig.', 'Mittlerweile werden deutsche Frauen die Hilfe brauchen abgewiesen, weil nicht genug Plätze vorhanden sind.', '😁', 'das wäre gut für Niedriglöhner Hartz IV Empfänger aber warum sollen auch Reiche |LBR| kostenlose Kitas haben?', 'Bei dem war doch am Vorabend, einer von 20 #Chorknaben schlecht.', '@Lokalfuerst', 'Gesellschaftliche Verantwortung?', 'geh zurück,', '😂😂😂', '|LBR| Ich folge.', 'Die perverse und dreckige Seite von schön #bunt #diversity', '@Beatrix_vStorch @hrfernsehen', '@MENA_WATCH @Ilona_GR_DE @CarolHakios @Kaputtnikkkk @palactnet @stefanolix @SDGMasterglass @czsystuvx @Netzengel @TiloJung @JungNaiv @guyelster @benabyad @GreatReturnMa @UNGeneva @BR24', 'Und das immer wieder, und bei allen Gelegenheiten.', '@heuteplus @ZDF', '|LBR| „Times“ befand, die #Merkel #CDU habe #May „gedemütigt“.', 'Wenn Trump der neue Hitler ist, |LBR| Was ist dann Clinton??', '|LBR| Glaubt nicht ihre Lügen', '@Ollee3 @Ranzigeimme', '#Grüne', '\"Das „generische Maskulinum“ sei nun einmal weit verbreitet und jeder wisse, dass Frauen hier eingeschlossen seien.', '\\\\U270C🏻', '🙃', 'Dienst fürs Volk', 'Ich lehne den Islam in seiner Gänze ab.', 'Sollen die auch ihre Kultur ausüben dürfen?', 'Ihre Haut sieht ja fürchterlich aus und dann das ständige blinzeln', 'Ein anderes wäre: Witze über Minderheiten.', '☺', 'Stimmt das?', 'Lesen Sie meinen Tweet noch mal und achten Sie dabei auf die gewählte Form des Hilfsverbs:', 'Der Pimpf ist Goebbels 2.0.', '„Mit einem Gegenstand“ zynischer geht es kaum.', '🖕🏻', 'das fängt beim beschatten auf demos an, geht zur verfolgung bis vor die haustür weiter und hört auf wenn du zusammengetreten wirst.', '|LBR| gestern wieder alle mitgefiebert, als unsere deutschen Jungs auch den Iberern deren Grenzen aufgezeigt haben?', '- aber wenn sie der Schariapartei entgegengesetzt wird, gerne doch!', '@nprncbl', 'Du drehst es Dir wie du es brauchst.', 'Mit Schimp und Schande, geteert und gefedert?', '|LBR| Wers begreift wird zum Nazi erklärt.', 'Wie viele Messerattacken, Gruppenvergewaltigungen und Terrorangriffe sind wir bereit hinzunehmen, bevor wir unsere Zurückhaltung aufgeben?', 'bin ich jetzt stärker oder Opfer in der Gesellschaft?\"', 'Warum veröffentlicht ihr keine Bilder von linken Anarchisten?', 'Warum LINKS oder SOZIALISMUS nie überlebt??', '@polizei_nrw_ge', 'Schlafschafe, Angsthasen ,Egoisten, die Mehrheit der Deutschen, gehen nicht zur Wahl.', '@Erdrandbewohner', '@GeorgDiez1', '@ThomasOppermann', 'Ja eben scheiß #Humanismus', 'Hier sieht man primär ein Foto mit einem Text darunter.', 'Dein Umfeld verwundert doch etwa.', '😃😃', 'ist allerdings 500 MB groß...', '@anna_IIna @PeterPa34083139', '|LBR| Leider funktioniert das nicht so.', 'Gottseidank ist dem nicht so...', 'Sehr gefährlich und ignoriert.', 'Gamer: \"Frauen gucken uns mit dem Arsch nicht an!', 'Wir haben Euch schon im 17. Jahrhundert davongejagt.', '@Neuber_Forst @schweizok2 @RenateKuenast', '@bimbas_world @safe_ID35', '😎\\\\U261D', '@cyclinginside', '@SWagenknecht', '@TomMayerEuropa', '@JoachimRock @Paritaet', 'Und die Anträge füllen willige Helferinnen und Sozialarbeiterinnen aus.', 'leckt mich!', 'Die Integrität des Schanzendaches wird durch das starke verlangen niemals Wingl zu berühren extrem verstärkt.', 'Wer die Geschichte kennt weiß das ein Banken System ohne uns niemals möglich gewesen wäre.', 'ausserdem zeigt das die chats an ihr ottos', 'Sie haben doch eine veritable Vollmeise!', 'Und das sagt alles über Dich aus, was es wert ist, zu wissen.', '|LBR| Schönen Freitag.', 'Heute: 15h #Frankfurt #HBF: Demo', 'Das ist seit 1945 nicht mehr der Fall,', 'Schließlich haben alle ja \"Welcome Refugees\"gerufen.', 'Möglicherweise bin ich der Einzige, der den heterosexuellen Mann vor dem Feminismus retten kann.', '@winterfruitloop', 'deswegen hab ich so romantische bilder im kopp', '@IAMMASCHO @RAIMINEM', 'Da sollten auch Asylanten eingesetzt werden, die für nichts abkassieren und sich den Tag über langweilen.', '#AKK Annegret Kramp-#Karrenbauer #CDU plant Gesprächsrunde zur Migrationspolitik.', '|LBR| Da bricht dein ganzes Weltbild zusammen.', 'Wenn das zustande kommt müßte es eigentlich jeder merken das wir übergangen werden....!', 'Als erstes #Merkelmussweg |LBR| dann |LBR| #AnnegretKrampKarrenbauermussweg oder für Weicheier #AKKmussweg', 'Unfassbar.', '@Grals_Hueter', 'Den grauen Himmel ist man gar nicht gewohnt,', '@waldruhe', '@rspctfl @ThomasMichael71 @Innenwelttramp @ergroovt @houelle_beck @ksemann2 @DrKassandraPari', 'Kommt mir vor, als ob uns Autofahrern demnächst so richtig der Arsch aufgerissen wird.', '@BILD', 'Schaut euch einfach die dummen Köpfe an...', '@CommieEater', '|LBR| Nur noch ein Reply.', '@ZDFheute', '@haiderbekah', '#SPD-Vorsitzende Andrea #Nahles auf Twitter: \"#AKK Sie sind die #Merkel 2.0', '@SophiePassmann', '@PetrBystronAfD', 'Nix darf man mehr, ey', '@ainyrockstar', 'voller verrückter Mossis die Juden den Tod wünschen, aber keine Sorge: |LBR| Das ist Vielfalt, das ist bunt und eine Islamisierung findet nicht statt.', '@ShakRiet', '😉👍👍', 'nun kristallisieren sich die #Politiker und die #Parteien ohne Rückgrat heraus', '@hmilz', 'keine Ahnung wie man das nennt!', 'Woher weiß man eigentlich immer wie viele Menschen im Mittelmeer ertrunken sind,', 'Matador?', '@vonBeutelratte @Kaputtnikkkk @MENA_WATCH @Ilona_GR_DE @palactnet @SDGMasterglass @czsystuvx @Netzengel @TiloJung @JungNaiv @guyelster @benabyad @GreatReturnMa @UNGeneva', \"Dann weiß ich wie's ausgeht ...\", '#fcsp', 'Laut dem unmoralischen Beduinen aber!', 'Der Genosse Robespierre unterbreitet den Vorschlag: wenn die Rübe runter ist, ist auch die Scheisse draussen', '@SteinbachErika', 'Schön wäre es, doch der korrupte, staatstreue Stasi-Apararat #Verfassungsschutz wird doch auch nur vom #Parteikartel #GroKo geschmiert.', 'USA Waffen selbstversändlich.', 'Roth,Haye,Friedman,die geballte Ladung der Zersetzung!', '@MDRAktuell', '@BR24', '|LBR| Ärztin Hänel wurde zu einer Geldstrafe verurteilt,weil sie für Abtreibungen„geworben“hatte.', 'ihr dürft genau 15 Minuten nach Mitternacht schießen', \"|LBR| You've made my day.\", 'Geilomat, Twitter hat es geschafft #Merz an die Spitze der Trends zu hypen.', 'Das ich irgendwas X finde wenn ich nach X suche weiß ich selbst', '@Jil_Nicole_Gil', '#USwahl16', 'Der Zuckerduft ausm Maul kommt aber nur bei Typ 1.', 'Was für ein Schieber ...', 'Irre...', 'Unfassbar.', 'es werden weiterhin unschuldige Frauen-und Kinder, für den Profit der korrupten #Asylindustrie geopfert.', 'Das ist mal wieder Sozial Politik der SPD für Reiche Schmarotzer.', '😂', 'auch heute wieder nur drittklassige #Laiendarsteller in einem extrem beschissenen #Tatort', '|LBR| Das heißt Manni.', '|LBR| Insofern...', 'ich kotzt dieses Sandhausen soooooo an ...', 'Ist ja überaus interessant was man innerhalb eines Tages so über den Kahrs erfährt.', 'Irgendein anonymes Linksdödel mit arischem Grössenwahn und Geltungsdrang,', 'Bundesfamilienministerin Franziska #Giffey #SPD:\"Wir sollten nicht gleich das ganze Hartz IV System über den Haufen werfen\"', '@MiriamWoelke']\n"
     ]
    }
   ],
   "source": [
    "test=read_dataset(file, \"test\", task)\n",
    "\n",
    "gold_labels= test['output'].to_list()\n",
    "predicted_labels=[]\n",
    "tweets= test['text_input'].to_list()\n",
    "print(tweets)"
   ]
  },
  {
   "cell_type": "code",
   "execution_count": 20,
   "metadata": {
    "colab": {
     "base_uri": "https://localhost:8080/",
     "height": 1000
    },
    "id": "f7fuVJXRr9MT",
    "outputId": "7601dc88-dc4b-4268-805d-359a8b538d0d"
   },
   "outputs": [
    {
     "name": "stdout",
     "output_type": "stream",
     "text": [
      "|LBR| Sie haben es versucht |LBR| Doch es nie geschafft\n",
      "ASSERTIVE\n",
      "Du bist als Muslima aber kein Ausdruck verschiedener Religionen.\n",
      "EXPRESSIVE\n",
      "#ErdoganNotWelcome\n",
      "DIRECTIVE\n",
      "Alles fürs eigene Volk hieß es damals noch!.\n",
      "EXPRESSIVE\n",
      "#fcsp\n",
      "DIRECTIVE\n",
      "Sie nährt sich aus einem total diffusen, ungerichteten Gefühl der Unzufriedenheit.\n",
      "EXPRESSIVE\n",
      "die sind halt Teil unserer kranken Gesellschaft.\n",
      "DIRECTIVE\n",
      "|LBR| Wer bis Ende des Jahres noch steht hat gewonnen!\n",
      "ASSERTIVE\n",
      "checkst du das nicht?\n",
      "DIRECTIVE\n",
      "#incel\"\n",
      "DIRECTIVE\n",
      "@KokoLores20\n",
      "DIRECTIVE\n",
      "Gibt es echt so viele Naivlinge?\n",
      "DIRECTIVE\n",
      "Interview mit Ragdahd.\n",
      "OTHER\n",
      "Dieses linke Schmierblatt und andere, hab ich schon lange geblockt.\n",
      "EXPRESSIVE\n",
      "Die gibt es zuhauf!\n",
      "ASSERTIVE\n",
      "Claudi Roth mal wieder peinlich.\n",
      "EXPRESSIVE\n",
      "@RolandTichy\n",
      "DIRECTIVE\n",
      "Das Tempolimit ist mir sowas von scheissegal.\n",
      "EXPRESSIVE\n",
      "Es gibt nicht \"islamistisch\",\n",
      "NULLASSERTIVE\n",
      "Unwählbar.\n",
      "DIRECTIVE\n",
      "... es ist ein Segen\n",
      "EXPRESSIVE\n",
      "allein der Begriff \"Werbeverbot\"unterstellt einerseits Geldgier bei den Ärzten und |LBR| Leichtfertigkeit bei den Frauen.\n",
      "ASSERTIVE\n",
      "wir sehen die Jetzigen interessiert doch gar nicht was jeden Tag passiert\n",
      "ASSERTIVE\n",
      "@66Norweger66\n",
      "DIRECTIVE\n",
      "Niemand, der vor Krieg flüchtet, lässt seine Familie in einem Kriegsgebiet zurück.\n",
      "ASSERTIVE\n",
      "Ist ne Kampagne der Gutmenschen, sich dieser Umfrage besonders anzunehmen.\n",
      "DIRECTIVE\n",
      "Einfach nur ekelhaft, widerlich und demnächst unter 5%\n",
      "EXPRESSIVE\n",
      "|LBR| Dafür sind die Proteste der Gelbwesten sind jetzt schon tabu auf Twitter.\n",
      "DIRECTIVE\n",
      "Ich fordere Sie auf: handeln Sie @NATO !!\n",
      "DIRECTIVE\n",
      "Wann hört diese wahnsinnige LINKSGRÜNE Scheiße vonwegen \"Einladung an alle kriminellen Moslems\" der Welt auf ??\n",
      "DIRECTIVE\n",
      "Das Element soll sich um seine pädophilen Freunde kümmern!\n",
      "DIRECTIVE\n",
      "|LBR| Nicht nur die May auch das Deutsche Volk..\n"
     ]
    },
    {
     "name": "stderr",
     "output_type": "stream",
     "text": [
      "WARNING:tornado.access:429 POST /v1beta/tunedModels/speechacts-coarse3-9437:generateContent?%24alt=json%3Benum-encoding%3Dint (127.0.0.1) 455.95ms\n",
      "WARNING:tornado.access:429 POST /v1beta/tunedModels/speechacts-coarse3-9437:generateContent?%24alt=json%3Benum-encoding%3Dint (127.0.0.1) 481.30ms\n",
      "WARNING:tornado.access:429 POST /v1beta/tunedModels/speechacts-coarse3-9437:generateContent?%24alt=json%3Benum-encoding%3Dint (127.0.0.1) 481.22ms\n"
     ]
    },
    {
     "name": "stdout",
     "output_type": "stream",
     "text": [
      "EXPRESSIVE\n",
      "Wenn man nur genug scheiße baut, werden Ad Hominem Argumente auf einmal legitim:\n"
     ]
    },
    {
     "name": "stderr",
     "output_type": "stream",
     "text": [
      "WARNING:tornado.access:429 POST /v1beta/tunedModels/speechacts-coarse3-9437:generateContent?%24alt=json%3Benum-encoding%3Dint (127.0.0.1) 506.58ms\n",
      "WARNING:tornado.access:429 POST /v1beta/tunedModels/speechacts-coarse3-9437:generateContent?%24alt=json%3Benum-encoding%3Dint (127.0.0.1) 456.69ms\n",
      "WARNING:tornado.access:429 POST /v1beta/tunedModels/speechacts-coarse3-9437:generateContent?%24alt=json%3Benum-encoding%3Dint (127.0.0.1) 482.41ms\n",
      "WARNING:tornado.access:429 POST /v1beta/tunedModels/speechacts-coarse3-9437:generateContent?%24alt=json%3Benum-encoding%3Dint (127.0.0.1) 455.97ms\n",
      "WARNING:tornado.access:429 POST /v1beta/tunedModels/speechacts-coarse3-9437:generateContent?%24alt=json%3Benum-encoding%3Dint (127.0.0.1) 481.88ms\n",
      "WARNING:tornado.access:429 POST /v1beta/tunedModels/speechacts-coarse3-9437:generateContent?%24alt=json%3Benum-encoding%3Dint (127.0.0.1) 455.84ms\n",
      "WARNING:tornado.access:429 POST /v1beta/tunedModels/speechacts-coarse3-9437:generateContent?%24alt=json%3Benum-encoding%3Dint (127.0.0.1) 481.24ms\n"
     ]
    },
    {
     "name": "stdout",
     "output_type": "stream",
     "text": [
      "DIRECTIVE\n",
      "|LBR| Hokuspokus #Focus\n",
      "DIRECTIVE\n",
      "Bei dem UNRECHTSSYSTEM wäre doch mal ein Militärputsch schön um 🇩🇪zu retten !!!\n",
      "DIRECTIVE\n",
      "nützt alles nix!\n",
      "NULLASSERTIVE\n",
      "- #Tagesschau sendet bereits im #Scharia-Modus\n",
      "ASSERTIVE\n",
      "@jazzlover2021 @Steffmann45 @DerGermane2\n",
      "DIRECTIVE\n",
      "Für die von Ihnen kolonisierten Völker sind alle Europäer \"Weiße\"...\n",
      "DIRECTIVE\n",
      "@hassanhadjali\n",
      "DIRECTIVE\n",
      "🤕🧕\n",
      "EXPRESSIVE\n",
      "@Dimmo52 @Fern_Schreiber\n",
      "DIRECTIVE\n",
      "@tagesschau\n",
      "DIRECTIVE\n",
      "Und die Legalisierung der #Pädophile durch die #Grünen\n",
      "DIRECTIVE\n",
      "In der Kolonie gibt es sogar Museeun für Terrorbanden wie die IRGUN.\n",
      "EXPRESSIVE\n",
      "...Dem Fehlschluss dass eine These bewiesen ist, wenn sie nicht zu 100% entkräftet werden kann.\n",
      "ASSERTIVE\n",
      "😡😡\n",
      "EXPRESSIVE\n",
      "Das sind eben keine Profis.\n",
      "ASSERTIVE\n",
      "das gehört eindeutig entsorgt...!\n",
      "ASSERTIVE\n",
      "Khalil, Die Flucht aus Syrien |LBR| o. |LBR| Wie ich ein ganzes Volk verarschte, weil ich ja eigentlich gar kein Flüchtling war, mehrere falsche Identitäten hatte, meine Steinzeitreligion unter's Volk brachte, beim Alter log und illegal einreiste.\n"
     ]
    },
    {
     "name": "stderr",
     "output_type": "stream",
     "text": [
      "WARNING:tornado.access:429 POST /v1beta/tunedModels/speechacts-coarse3-9437:generateContent?%24alt=json%3Benum-encoding%3Dint (127.0.0.1) 532.96ms\n"
     ]
    },
    {
     "name": "stdout",
     "output_type": "stream",
     "text": [
      "EXPRESSIVE\n",
      "wahrscheinlich nur verschrieben oder?\n"
     ]
    },
    {
     "name": "stderr",
     "output_type": "stream",
     "text": [
      "WARNING:tornado.access:429 POST /v1beta/tunedModels/speechacts-coarse3-9437:generateContent?%24alt=json%3Benum-encoding%3Dint (127.0.0.1) 632.34ms\n",
      "WARNING:tornado.access:429 POST /v1beta/tunedModels/speechacts-coarse3-9437:generateContent?%24alt=json%3Benum-encoding%3Dint (127.0.0.1) 456.78ms\n",
      "WARNING:tornado.access:429 POST /v1beta/tunedModels/speechacts-coarse3-9437:generateContent?%24alt=json%3Benum-encoding%3Dint (127.0.0.1) 531.86ms\n",
      "WARNING:tornado.access:429 POST /v1beta/tunedModels/speechacts-coarse3-9437:generateContent?%24alt=json%3Benum-encoding%3Dint (127.0.0.1) 456.95ms\n",
      "WARNING:tornado.access:429 POST /v1beta/tunedModels/speechacts-coarse3-9437:generateContent?%24alt=json%3Benum-encoding%3Dint (127.0.0.1) 456.12ms\n",
      "WARNING:tornado.access:429 POST /v1beta/tunedModels/speechacts-coarse3-9437:generateContent?%24alt=json%3Benum-encoding%3Dint (127.0.0.1) 457.25ms\n",
      "WARNING:tornado.access:429 POST /v1beta/tunedModels/speechacts-coarse3-9437:generateContent?%24alt=json%3Benum-encoding%3Dint (127.0.0.1) 456.63ms\n",
      "WARNING:tornado.access:429 POST /v1beta/tunedModels/speechacts-coarse3-9437:generateContent?%24alt=json%3Benum-encoding%3Dint (127.0.0.1) 455.32ms\n"
     ]
    },
    {
     "name": "stdout",
     "output_type": "stream",
     "text": [
      "DIRECTIVE\n",
      "Wer drüber über maxi ist bekommt noch,\n",
      "ASSERTIVE\n",
      "Nur noch ein Glas Wein.\n",
      "DIRECTIVE\n",
      "Darf man eigentlich noch sagen, Deutschland den deutschen Ausländer raus?\n",
      "DIRECTIVE\n",
      "@welt\n",
      "DIRECTIVE\n",
      "Sprechen oder sogar etwas gegen Kinderarmut Hartz IV Armut Rentenarmut Hungerlöhne tun so etwas machen Politiker nicht.\n",
      "NULLASSERTIVE\n",
      "@de_sputnik @MarcelJoppa\n",
      "DIRECTIVE\n",
      "|LBR| Keine Trauer.\n",
      "DIRECTIVE\n",
      "fischerhut tragender minderjähriger druffi der sein pep in davidsternline von nem bibi bild rotzt und dabei egotronic hört ist wohl rr das bild was menschen von *der szene* haben\n",
      "ASSERTIVE\n",
      "War quasi die Einstiegsdroge für Alkohol und zuviel Zucker.\n",
      "DIRECTIVE\n",
      "@er1k_w @Ralf_Stegner\n",
      "DIRECTIVE\n",
      "Schlafrythmus is ja generell im Arsch aber die letzten Tage steckt er so tief drin dass ich Sodbrennen von bekomme\n",
      "DIRECTIVE\n",
      "Da sind doch auf der Kehrseite schon die Reichsdeutschen mit ihren Flugscheiben -UFOS.\n",
      "DIRECTIVE\n",
      "Wenn ich das hochgestochene Dummgeschwätz von Cem 🇹🇷 höre verstehe ich warum so viele die AFD wählen\n",
      "DIRECTIVE\n",
      "Bestes AfD Werbepferd.\n",
      "DIRECTIVE\n",
      "diese Gestalten haben mich blockiert, weil ich bei diesen Linksdeutschen als Nazi gelte\n",
      "ASSERTIVE\n",
      "Ist es \"White Supremacy\", Wenn man feststellt, dass Juden zu den Klügsten zählen, Asiaten im Schnitt 5% über den Weißen liegen, diese im Mittelfeld der Normalintelligenz, gefolgt von Latinos und Schlusslicht Schwarze?\n",
      "ASSERTIVE\n",
      "OK.....!\n"
     ]
    },
    {
     "name": "stderr",
     "output_type": "stream",
     "text": [
      "WARNING:tornado.access:429 POST /v1beta/tunedModels/speechacts-coarse3-9437:generateContent?%24alt=json%3Benum-encoding%3Dint (127.0.0.1) 531.89ms\n"
     ]
    },
    {
     "name": "stdout",
     "output_type": "stream",
     "text": [
      "DIRECTIVE\n",
      "|LBR| Die Völker müssen zeigen das sie diese Scheiß Armutspolitik nicht mehr mit machen.\n"
     ]
    },
    {
     "name": "stderr",
     "output_type": "stream",
     "text": [
      "WARNING:tornado.access:429 POST /v1beta/tunedModels/speechacts-coarse3-9437:generateContent?%24alt=json%3Benum-encoding%3Dint (127.0.0.1) 506.12ms\n",
      "WARNING:tornado.access:429 POST /v1beta/tunedModels/speechacts-coarse3-9437:generateContent?%24alt=json%3Benum-encoding%3Dint (127.0.0.1) 481.05ms\n",
      "WARNING:tornado.access:429 POST /v1beta/tunedModels/speechacts-coarse3-9437:generateContent?%24alt=json%3Benum-encoding%3Dint (127.0.0.1) 481.79ms\n",
      "WARNING:tornado.access:429 POST /v1beta/tunedModels/speechacts-coarse3-9437:generateContent?%24alt=json%3Benum-encoding%3Dint (127.0.0.1) 481.30ms\n",
      "WARNING:tornado.access:429 POST /v1beta/tunedModels/speechacts-coarse3-9437:generateContent?%24alt=json%3Benum-encoding%3Dint (127.0.0.1) 455.86ms\n",
      "WARNING:tornado.access:429 POST /v1beta/tunedModels/speechacts-coarse3-9437:generateContent?%24alt=json%3Benum-encoding%3Dint (127.0.0.1) 531.70ms\n",
      "WARNING:tornado.access:429 POST /v1beta/tunedModels/speechacts-coarse3-9437:generateContent?%24alt=json%3Benum-encoding%3Dint (127.0.0.1) 480.98ms\n",
      "WARNING:tornado.access:429 POST /v1beta/tunedModels/speechacts-coarse3-9437:generateContent?%24alt=json%3Benum-encoding%3Dint (127.0.0.1) 481.99ms\n",
      "WARNING:tornado.access:429 POST /v1beta/tunedModels/speechacts-coarse3-9437:generateContent?%24alt=json%3Benum-encoding%3Dint (127.0.0.1) 683.19ms\n"
     ]
    },
    {
     "name": "stdout",
     "output_type": "stream",
     "text": [
      "EXPRESSIVE\n",
      "Du sagst es.....\n",
      "ASSERTIVE\n",
      "🖕🏻\n",
      "DIRECTIVE\n",
      "|LBR| Heißer Sommer = Klimawandel\n",
      "EXPRESSIVE\n",
      "Von diesen 17 Mio sprachen wieviel D, waren wieviel arbeitsfähig und willig, mit unserer Kultur halbwegs vertraut, haben andere Religionen akzeptiert, haben Frauen respektiert,zeigten Empathie bei Kindern und Tieren, waren Menschen wie du und ich.\n",
      "ASSERTIVE\n",
      "@Quatrofinia @ulschzi @Tinimaus1110\n",
      "DIRECTIVE\n",
      "Was nicht geschah...\n",
      "ASSERTIVE\n",
      "@kneipenjenki @Vulgaerbahamit\n",
      "DIRECTIVE\n",
      "Fett gepamperte Zugpferde sämtlicher arabischer Islamlobbys.\n",
      "DIRECTIVE\n",
      "Flüchtlingen helfen, bedeutet auch, mal so nebenbei das Leben zu verlieren.\n",
      "ASSERTIVE\n",
      "5 Monate Untersuchungshaft wegen Benutzung eines Laserpointers.\n",
      "ASSERTIVE\n",
      "Heute nacht wird Arschloch Trump zum Präsident gewählt ... nur mal so\n",
      "EXPRESSIVE\n",
      "Die Knechte der Amis werden ihrer Strafe nicht entgehen!\n",
      "DIRECTIVE\n",
      "Und das rund um die Uhr.\n",
      "ASSERTIVE\n",
      "👍🤗\n",
      "EXPRESSIVE\n",
      "andere müssen auch 2 oder 3 Jobs haben um wenigstens die Miete Zahlen zu können.\n"
     ]
    },
    {
     "name": "stderr",
     "output_type": "stream",
     "text": [
      "WARNING:tornado.access:429 POST /v1beta/tunedModels/speechacts-coarse3-9437:generateContent?%24alt=json%3Benum-encoding%3Dint (127.0.0.1) 582.27ms\n"
     ]
    },
    {
     "name": "stdout",
     "output_type": "stream",
     "text": [
      "ASSERTIVE\n",
      "Das sind Analphabeten\n"
     ]
    },
    {
     "name": "stderr",
     "output_type": "stream",
     "text": [
      "WARNING:tornado.access:429 POST /v1beta/tunedModels/speechacts-coarse3-9437:generateContent?%24alt=json%3Benum-encoding%3Dint (127.0.0.1) 506.41ms\n",
      "WARNING:tornado.access:429 POST /v1beta/tunedModels/speechacts-coarse3-9437:generateContent?%24alt=json%3Benum-encoding%3Dint (127.0.0.1) 455.59ms\n",
      "WARNING:tornado.access:429 POST /v1beta/tunedModels/speechacts-coarse3-9437:generateContent?%24alt=json%3Benum-encoding%3Dint (127.0.0.1) 456.35ms\n",
      "WARNING:tornado.access:429 POST /v1beta/tunedModels/speechacts-coarse3-9437:generateContent?%24alt=json%3Benum-encoding%3Dint (127.0.0.1) 456.47ms\n",
      "WARNING:tornado.access:429 POST /v1beta/tunedModels/speechacts-coarse3-9437:generateContent?%24alt=json%3Benum-encoding%3Dint (127.0.0.1) 456.74ms\n",
      "WARNING:tornado.access:429 POST /v1beta/tunedModels/speechacts-coarse3-9437:generateContent?%24alt=json%3Benum-encoding%3Dint (127.0.0.1) 557.74ms\n"
     ]
    },
    {
     "name": "stdout",
     "output_type": "stream",
     "text": [
      "EXPRESSIVE\n",
      "Die staatliche Förderung, für die Aufnahme von #Goldstücken hat der korrupte Bürgermeister ja bestimmt gierig eingesteckt\n"
     ]
    },
    {
     "name": "stderr",
     "output_type": "stream",
     "text": [
      "WARNING:tornado.access:429 POST /v1beta/tunedModels/speechacts-coarse3-9437:generateContent?%24alt=json%3Benum-encoding%3Dint (127.0.0.1) 531.68ms\n"
     ]
    },
    {
     "name": "stdout",
     "output_type": "stream",
     "text": [
      "DIRECTIVE\n",
      "|LBR| Mal wieder Doppelte Standards bei unseren \"unabhängigen\"Propagandaschleudern...\n"
     ]
    },
    {
     "name": "stderr",
     "output_type": "stream",
     "text": [
      "WARNING:tornado.access:429 POST /v1beta/tunedModels/speechacts-coarse3-9437:generateContent?%24alt=json%3Benum-encoding%3Dint (127.0.0.1) 506.53ms\n",
      "WARNING:tornado.access:429 POST /v1beta/tunedModels/speechacts-coarse3-9437:generateContent?%24alt=json%3Benum-encoding%3Dint (127.0.0.1) 456.56ms\n",
      "WARNING:tornado.access:429 POST /v1beta/tunedModels/speechacts-coarse3-9437:generateContent?%24alt=json%3Benum-encoding%3Dint (127.0.0.1) 634.57ms\n",
      "WARNING:tornado.access:429 POST /v1beta/tunedModels/speechacts-coarse3-9437:generateContent?%24alt=json%3Benum-encoding%3Dint (127.0.0.1) 456.44ms\n",
      "WARNING:tornado.access:429 POST /v1beta/tunedModels/speechacts-coarse3-9437:generateContent?%24alt=json%3Benum-encoding%3Dint (127.0.0.1) 557.98ms\n",
      "WARNING:tornado.access:429 POST /v1beta/tunedModels/speechacts-coarse3-9437:generateContent?%24alt=json%3Benum-encoding%3Dint (127.0.0.1) 481.43ms\n"
     ]
    },
    {
     "name": "stdout",
     "output_type": "stream",
     "text": [
      "DIRECTIVE\n",
      "@_Rosenkavalier_\n",
      "DIRECTIVE\n",
      "ekelhaft und abartig, ist noch milde ausgedrückt!\n",
      "EXPRESSIVE\n",
      "|LBR| Ich sehe Israel als Enklave von Freiheit und Demokratie inmitten feindseliger archaischer Islamdiktaturen, mit absoluten Verteidigungsrecht, und die deutsche Subventionierung der Hamas für unterirdische Doppelmoral!\n",
      "DIRECTIVE\n",
      "@mdrkultur\n",
      "DIRECTIVE\n",
      "Ich weiß halt, wie man Frauen zum Miauen bringt\n",
      "ASSERTIVE\n",
      "Es sei denn, man legt Wert auf Destabilisierung seiner Heimat, Verlust sämtlicher Werte, die das Land einst voran brachten.\n",
      "ASSERTIVE\n",
      "@begenrogenschaf\n",
      "DIRECTIVE\n",
      "#Lindner\n",
      "DIRECTIVE\n",
      "wir sind übersät mit Unkraut und das werden wir nie wieder los...!\n",
      "DIRECTIVE\n",
      "Und unsere Träumer glauben, dass sie diese wilden bekehren können.\n",
      "ASSERTIVE\n",
      "@marctailer3 @Wahemue\n",
      "DIRECTIVE\n",
      "😂 😂 😂\n",
      "EXPRESSIVE\n",
      "|LBR| Psychoterror mit Worten.\n",
      "DIRECTIVE\n",
      "@Jutta98811424 @GeorgKleine @sozi0815 @WildeGesellin\n",
      "DIRECTIVE\n",
      "Schadet volkskörper wa ...\n"
     ]
    },
    {
     "name": "stderr",
     "output_type": "stream",
     "text": [
      "WARNING:tornado.access:429 POST /v1beta/tunedModels/speechacts-coarse3-9437:generateContent?%24alt=json%3Benum-encoding%3Dint (127.0.0.1) 506.58ms\n"
     ]
    },
    {
     "name": "stdout",
     "output_type": "stream",
     "text": [
      "DIRECTIVE\n",
      "\"Wären die Kinder die in Kinderarmut \"Leben\"eine Bank, hätte man sie schon längst gerettet\"\n"
     ]
    },
    {
     "name": "stderr",
     "output_type": "stream",
     "text": [
      "WARNING:tornado.access:429 POST /v1beta/tunedModels/speechacts-coarse3-9437:generateContent?%24alt=json%3Benum-encoding%3Dint (127.0.0.1) 557.19ms\n",
      "WARNING:tornado.access:429 POST /v1beta/tunedModels/speechacts-coarse3-9437:generateContent?%24alt=json%3Benum-encoding%3Dint (127.0.0.1) 481.18ms\n",
      "WARNING:tornado.access:429 POST /v1beta/tunedModels/speechacts-coarse3-9437:generateContent?%24alt=json%3Benum-encoding%3Dint (127.0.0.1) 505.99ms\n",
      "WARNING:tornado.access:429 POST /v1beta/tunedModels/speechacts-coarse3-9437:generateContent?%24alt=json%3Benum-encoding%3Dint (127.0.0.1) 532.53ms\n",
      "WARNING:tornado.access:429 POST /v1beta/tunedModels/speechacts-coarse3-9437:generateContent?%24alt=json%3Benum-encoding%3Dint (127.0.0.1) 456.49ms\n"
     ]
    },
    {
     "name": "stdout",
     "output_type": "stream",
     "text": [
      "ASSERTIVE\n",
      "@hundimbuero\n"
     ]
    },
    {
     "name": "stderr",
     "output_type": "stream",
     "text": [
      "WARNING:tornado.access:429 POST /v1beta/tunedModels/speechacts-coarse3-9437:generateContent?%24alt=json%3Benum-encoding%3Dint (127.0.0.1) 533.17ms\n",
      "WARNING:tornado.access:429 POST /v1beta/tunedModels/speechacts-coarse3-9437:generateContent?%24alt=json%3Benum-encoding%3Dint (127.0.0.1) 456.08ms\n",
      "WARNING:tornado.access:429 POST /v1beta/tunedModels/speechacts-coarse3-9437:generateContent?%24alt=json%3Benum-encoding%3Dint (127.0.0.1) 480.96ms\n"
     ]
    },
    {
     "name": "stdout",
     "output_type": "stream",
     "text": [
      "DIRECTIVE\n",
      "Niemand möchte Wahrheiten über die Wilden hören.\n"
     ]
    },
    {
     "name": "stderr",
     "output_type": "stream",
     "text": [
      "WARNING:tornado.access:429 POST /v1beta/tunedModels/speechacts-coarse3-9437:generateContent?%24alt=json%3Benum-encoding%3Dint (127.0.0.1) 506.62ms\n",
      "WARNING:tornado.access:429 POST /v1beta/tunedModels/speechacts-coarse3-9437:generateContent?%24alt=json%3Benum-encoding%3Dint (127.0.0.1) 456.14ms\n",
      "WARNING:tornado.access:429 POST /v1beta/tunedModels/speechacts-coarse3-9437:generateContent?%24alt=json%3Benum-encoding%3Dint (127.0.0.1) 455.69ms\n",
      "WARNING:tornado.access:429 POST /v1beta/tunedModels/speechacts-coarse3-9437:generateContent?%24alt=json%3Benum-encoding%3Dint (127.0.0.1) 455.55ms\n",
      "WARNING:tornado.access:429 POST /v1beta/tunedModels/speechacts-coarse3-9437:generateContent?%24alt=json%3Benum-encoding%3Dint (127.0.0.1) 456.76ms\n",
      "WARNING:tornado.access:429 POST /v1beta/tunedModels/speechacts-coarse3-9437:generateContent?%24alt=json%3Benum-encoding%3Dint (127.0.0.1) 733.78ms\n"
     ]
    },
    {
     "name": "stdout",
     "output_type": "stream",
     "text": [
      "ASSERTIVE\n",
      "Psst, ich verrate Euch ein Geheimnis aus der Frauenwelt.\n",
      "ASSERTIVE\n",
      "|LBR| Aber was erwarte ich von moralisch minderbemittelten Rechtsradikalen mit Vorliebe für Kolonialismus und Völkermord?\n",
      "DIRECTIVE\n",
      "Das Geseiere dieses Pfaffen Gauck widert jeden Aufrechten nur an!\n",
      "EXPRESSIVE\n",
      "Dieses heuchlerische Weib !\n",
      "DIRECTIVE\n",
      "Wenn die Nahles mir sagen würde, dass heute Mittwoch ist, würde ich mir zur Sicherheit lieber einen Kalender kaufen.\n",
      "ASSERTIVE\n",
      "#cdu\n",
      "DIRECTIVE\n",
      "Regeln wie im 3.Reich.\n",
      "DIRECTIVE\n",
      "ich meine auf jeder größeren demo siehst du die jw fahnen,\n",
      "ASSERTIVE\n",
      "Es sei deshalb albern/überflüssig/Teil eines Plans zur feministischen Weltherrschaft, auf sprachlichen Alternativen zu bestehen.\"\n",
      "ASSERTIVE\n",
      "😂\n",
      "EXPRESSIVE\n",
      "Liberale sind Nazis im Wartestand.\n",
      "EXPRESSIVE\n",
      "|LBR| Es scheint,als seien Sie vor allem enttäuscht von der #SPD.\n",
      "ASSERTIVE\n",
      "Irgendein armes Arschlich wird als Bauernopfer vorgeführt, doch die Spitze der politischen Korruption, #VonderLeyen #CDU wird weiterhin, ungeschoren Ihr Unwesen treiben.\n",
      "DIRECTIVE\n",
      "die scheiß schmarotzenden Ossis braucht kein Mensch\n",
      "EXPRESSIVE\n",
      "ich unterteile in nur 2 Kategorien: Arm...loch oder Nicht-Arm...Loch.\n",
      "ASSERTIVE\n",
      "|LBR| Aber ansonsten ist alles genau so passiert!\n",
      "ASSERTIVE\n",
      "|LBR| Man muss den deutschen Außenminister ja vor der kompletten Bloßstellung bewahren!\n"
     ]
    },
    {
     "name": "stderr",
     "output_type": "stream",
     "text": [
      "WARNING:tornado.access:429 POST /v1beta/tunedModels/speechacts-coarse3-9437:generateContent?%24alt=json%3Benum-encoding%3Dint (127.0.0.1) 505.80ms\n"
     ]
    },
    {
     "name": "stdout",
     "output_type": "stream",
     "text": [
      "DIRECTIVE\n",
      "|LBR| Kalter Winter = Klimawandel\n"
     ]
    },
    {
     "name": "stderr",
     "output_type": "stream",
     "text": [
      "WARNING:tornado.access:429 POST /v1beta/tunedModels/speechacts-coarse3-9437:generateContent?%24alt=json%3Benum-encoding%3Dint (127.0.0.1) 506.40ms\n",
      "WARNING:tornado.access:429 POST /v1beta/tunedModels/speechacts-coarse3-9437:generateContent?%24alt=json%3Benum-encoding%3Dint (127.0.0.1) 456.51ms\n",
      "WARNING:tornado.access:429 POST /v1beta/tunedModels/speechacts-coarse3-9437:generateContent?%24alt=json%3Benum-encoding%3Dint (127.0.0.1) 456.95ms\n",
      "WARNING:tornado.access:429 POST /v1beta/tunedModels/speechacts-coarse3-9437:generateContent?%24alt=json%3Benum-encoding%3Dint (127.0.0.1) 456.42ms\n",
      "WARNING:tornado.access:429 POST /v1beta/tunedModels/speechacts-coarse3-9437:generateContent?%24alt=json%3Benum-encoding%3Dint (127.0.0.1) 456.82ms\n",
      "WARNING:tornado.access:429 POST /v1beta/tunedModels/speechacts-coarse3-9437:generateContent?%24alt=json%3Benum-encoding%3Dint (127.0.0.1) 457.90ms\n",
      "WARNING:tornado.access:429 POST /v1beta/tunedModels/speechacts-coarse3-9437:generateContent?%24alt=json%3Benum-encoding%3Dint (127.0.0.1) 482.89ms\n",
      "WARNING:tornado.access:429 POST /v1beta/tunedModels/speechacts-coarse3-9437:generateContent?%24alt=json%3Benum-encoding%3Dint (127.0.0.1) 457.08ms\n"
     ]
    },
    {
     "name": "stdout",
     "output_type": "stream",
     "text": [
      "EXPRESSIVE\n",
      "anchmal kotzt mich der Dogmatismus der Linken so sehr an.\n",
      "EXPRESSIVE\n",
      "dass kann doch nicht wahr sein in diesem unserem Lande\n",
      "NULLASSERTIVE\n",
      "Rentner durchsuchen Mülleimer, während Asylbetrüger und Wirtschaftsmigranten bei geöffneten Fenster die Heizungen aufdrehen.\n",
      "DIRECTIVE\n",
      "Naja, Bochum hat eben das \"unabsteigbar\"immer noch nicht überwunden\n",
      "ASSERTIVE\n",
      "@Dr_Tati_vanT @HeikoMaas\n",
      "DIRECTIVE\n",
      "🤭\n",
      "DIRECTIVE\n",
      "Sogar Nano-Teilchen sind grösser.\n",
      "ASSERTIVE\n",
      "Offensichtlich sind sie für Sie wertloser als Europäer, denen sie zugestehen, sie für Lebensraum im Nahen Osten zu vertreiben und zu ermorden.\n",
      "DIRECTIVE\n",
      "👍\n",
      "DIRECTIVE\n",
      "@nprncbl @AuswaertigesAmt\n",
      "DIRECTIVE\n",
      "ich komme grade vom Einkaufen und musste wieder an der #Tafel Suppenküche vorbei\n",
      "DIRECTIVE\n",
      "Du küsst bestimmt auch jeden.\n",
      "ASSERTIVE\n",
      "geht auf die Straße.\n",
      "ASSERTIVE\n",
      "@bertramscharpf @Arnd_Schumacher @janfleischhauer @NorbertBolz\n",
      "DIRECTIVE\n",
      "Ich möchte mich bei allen #SPD #Grünen Politiker Mitgliedern recht herzlich bedanken,\n",
      "DIRECTIVE\n",
      "31.01.92, Lampertheim: Eine Flüchtlingsunterkunft wird angezündet,\n"
     ]
    },
    {
     "name": "stderr",
     "output_type": "stream",
     "text": [
      "WARNING:tornado.access:429 POST /v1beta/tunedModels/speechacts-coarse3-9437:generateContent?%24alt=json%3Benum-encoding%3Dint (127.0.0.1) 507.34ms\n"
     ]
    },
    {
     "name": "stdout",
     "output_type": "stream",
     "text": [
      "DIRECTIVE\n",
      "Die BRD ist eine einzige Schande\n"
     ]
    },
    {
     "name": "stderr",
     "output_type": "stream",
     "text": [
      "WARNING:tornado.access:429 POST /v1beta/tunedModels/speechacts-coarse3-9437:generateContent?%24alt=json%3Benum-encoding%3Dint (127.0.0.1) 507.53ms\n",
      "WARNING:tornado.access:429 POST /v1beta/tunedModels/speechacts-coarse3-9437:generateContent?%24alt=json%3Benum-encoding%3Dint (127.0.0.1) 557.81ms\n"
     ]
    },
    {
     "name": "stdout",
     "output_type": "stream",
     "text": [
      "EXPRESSIVE\n",
      "Einfach alles.\n"
     ]
    },
    {
     "name": "stderr",
     "output_type": "stream",
     "text": [
      "WARNING:tornado.access:429 POST /v1beta/tunedModels/speechacts-coarse3-9437:generateContent?%24alt=json%3Benum-encoding%3Dint (127.0.0.1) 506.93ms\n",
      "WARNING:tornado.access:429 POST /v1beta/tunedModels/speechacts-coarse3-9437:generateContent?%24alt=json%3Benum-encoding%3Dint (127.0.0.1) 456.65ms\n",
      "WARNING:tornado.access:429 POST /v1beta/tunedModels/speechacts-coarse3-9437:generateContent?%24alt=json%3Benum-encoding%3Dint (127.0.0.1) 456.19ms\n",
      "WARNING:tornado.access:429 POST /v1beta/tunedModels/speechacts-coarse3-9437:generateContent?%24alt=json%3Benum-encoding%3Dint (127.0.0.1) 456.16ms\n",
      "WARNING:tornado.access:429 POST /v1beta/tunedModels/speechacts-coarse3-9437:generateContent?%24alt=json%3Benum-encoding%3Dint (127.0.0.1) 430.24ms\n",
      "WARNING:tornado.access:429 POST /v1beta/tunedModels/speechacts-coarse3-9437:generateContent?%24alt=json%3Benum-encoding%3Dint (127.0.0.1) 456.58ms\n",
      "WARNING:tornado.access:429 POST /v1beta/tunedModels/speechacts-coarse3-9437:generateContent?%24alt=json%3Benum-encoding%3Dint (127.0.0.1) 455.22ms\n"
     ]
    },
    {
     "name": "stdout",
     "output_type": "stream",
     "text": [
      "ASSERTIVE\n",
      "Die sogenannte Umwelthilfe kann sich ins Knie ficken, multipel und knochentrocken\n",
      "DIRECTIVE\n",
      "|LBR| Schlägt die Söhne mit allem, was er in die Hand bekommt.\n",
      "Warning: Model returned an empty response for input: |LBR| Schlägt die Söhne mit allem, was er in die Hand bekommt.\n",
      "@klammerdackel @Mr_Empty_hier\n",
      "DIRECTIVE\n",
      "ihr Schweine\n",
      "DIRECTIVE\n",
      "Deutschland 2019,\n",
      "EXPRESSIVE\n",
      "Sie hängt von der Abstammung ab.\n",
      "SUREASSERTIVE\n",
      "Ein Afrikaner der in China lebt oder geboren ist, ist dann WAS?\n",
      "ASSERTIVE\n",
      "@DerGegenspieler\n",
      "DIRECTIVE\n",
      "Damit der ausgediente deutsche Diesel als \"Gute Tat\"nach Afrika verschifft wird, weil die keine Richtwerte haben?\n",
      "DIRECTIVE\n",
      "Päderasten und Deutschlandfeinde.\n",
      "EXPRESSIVE\n",
      "|LBR| Ihre Lügen sind unsere Kraft\n",
      "EXPRESSIVE\n",
      "|LBR| Hirne voller Scheiße\n",
      "EXPRESSIVE\n",
      "Aber die Vorhaltungen die ihm jetzt gemacht werden ist billigstes Nachtreten.\n",
      "ASSERTIVE\n",
      "@dcxxx187\n",
      "DIRECTIVE\n",
      "Und wer mal drei Monate Hungern muss wird JEDEN Job anehmen für jeden Hungerlohn.\n"
     ]
    },
    {
     "name": "stderr",
     "output_type": "stream",
     "text": [
      "WARNING:tornado.access:429 POST /v1beta/tunedModels/speechacts-coarse3-9437:generateContent?%24alt=json%3Benum-encoding%3Dint (127.0.0.1) 531.44ms\n"
     ]
    },
    {
     "name": "stdout",
     "output_type": "stream",
     "text": [
      "ASSERTIVE\n",
      "@Einzelfallinfos @ibikus31\n"
     ]
    },
    {
     "name": "stderr",
     "output_type": "stream",
     "text": [
      "WARNING:tornado.access:429 POST /v1beta/tunedModels/speechacts-coarse3-9437:generateContent?%24alt=json%3Benum-encoding%3Dint (127.0.0.1) 506.56ms\n",
      "WARNING:tornado.access:429 POST /v1beta/tunedModels/speechacts-coarse3-9437:generateContent?%24alt=json%3Benum-encoding%3Dint (127.0.0.1) 455.80ms\n",
      "WARNING:tornado.access:429 POST /v1beta/tunedModels/speechacts-coarse3-9437:generateContent?%24alt=json%3Benum-encoding%3Dint (127.0.0.1) 480.54ms\n"
     ]
    },
    {
     "name": "stdout",
     "output_type": "stream",
     "text": [
      "DIRECTIVE\n",
      "@AcarLukas @allesevolution\n"
     ]
    },
    {
     "name": "stderr",
     "output_type": "stream",
     "text": [
      "WARNING:tornado.access:429 POST /v1beta/tunedModels/speechacts-coarse3-9437:generateContent?%24alt=json%3Benum-encoding%3Dint (127.0.0.1) 708.05ms\n"
     ]
    },
    {
     "name": "stdout",
     "output_type": "stream",
     "text": [
      "DIRECTIVE\n",
      "|LBR| Da kann man doch nur noch, nach vorne Essen\n"
     ]
    },
    {
     "name": "stderr",
     "output_type": "stream",
     "text": [
      "WARNING:tornado.access:429 POST /v1beta/tunedModels/speechacts-coarse3-9437:generateContent?%24alt=json%3Benum-encoding%3Dint (127.0.0.1) 533.07ms\n",
      "WARNING:tornado.access:429 POST /v1beta/tunedModels/speechacts-coarse3-9437:generateContent?%24alt=json%3Benum-encoding%3Dint (127.0.0.1) 456.19ms\n",
      "WARNING:tornado.access:429 POST /v1beta/tunedModels/speechacts-coarse3-9437:generateContent?%24alt=json%3Benum-encoding%3Dint (127.0.0.1) 481.66ms\n",
      "WARNING:tornado.access:429 POST /v1beta/tunedModels/speechacts-coarse3-9437:generateContent?%24alt=json%3Benum-encoding%3Dint (127.0.0.1) 431.20ms\n",
      "WARNING:tornado.access:429 POST /v1beta/tunedModels/speechacts-coarse3-9437:generateContent?%24alt=json%3Benum-encoding%3Dint (127.0.0.1) 456.05ms\n",
      "WARNING:tornado.access:429 POST /v1beta/tunedModels/speechacts-coarse3-9437:generateContent?%24alt=json%3Benum-encoding%3Dint (127.0.0.1) 459.12ms\n"
     ]
    },
    {
     "name": "stdout",
     "output_type": "stream",
     "text": [
      "ASSERTIVE\n",
      "wie mich dieses autoritäre identitäre gehabe einfach nur noch abfuckt.\n",
      "EXPRESSIVE\n",
      "🖕🏻\n",
      "DIRECTIVE\n",
      "um dies zu verhindern, wurden UN und internationales Recht geschaffen.\n",
      "DIRECTIVE\n",
      "Wegen der Kopfwindel?\n",
      "DIRECTIVE\n",
      "Das muss die \"Religion des Friedens sein\"von dem alle, plötzlich so begeistert sind\n",
      "NULLASSERTIVE\n",
      "@miguel_alemania @HAZ @hannover\n",
      "DIRECTIVE\n",
      "|LBR| Echtes Kunststück, dass sich da nicht ausnahmslos jeder verarscht fühlt.\n",
      "EXPRESSIVE\n",
      "Ja!\n",
      "DIRECTIVE\n",
      "Dumm -Deutscher halt!!!!\n",
      "DIRECTIVE\n",
      "Eine \"Sie\"also...\n",
      "NULLASSERTIVE\n",
      "|LBR| ableistisch auch noch?\n",
      "ASSERTIVE\n",
      "|LBR| Clinton |LBR| Der Antichrist !!!!\n",
      "DIRECTIVE\n",
      "Aber irgendwelche abseitigen \"Ich werfe mit Scheiße\"-Accounts?\n",
      "EXPRESSIVE\n",
      ":-(\n",
      "EXPRESSIVE\n",
      "Danke dafür,\n"
     ]
    },
    {
     "name": "stderr",
     "output_type": "stream",
     "text": [
      "WARNING:tornado.access:429 POST /v1beta/tunedModels/speechacts-coarse3-9437:generateContent?%24alt=json%3Benum-encoding%3Dint (127.0.0.1) 507.29ms\n",
      "WARNING:tornado.access:429 POST /v1beta/tunedModels/speechacts-coarse3-9437:generateContent?%24alt=json%3Benum-encoding%3Dint (127.0.0.1) 481.67ms\n"
     ]
    },
    {
     "name": "stdout",
     "output_type": "stream",
     "text": [
      "EXPRESSIVE\n",
      "Es ist wirklich grauenhaft, oder?\n"
     ]
    },
    {
     "name": "stderr",
     "output_type": "stream",
     "text": [
      "WARNING:tornado.access:429 POST /v1beta/tunedModels/speechacts-coarse3-9437:generateContent?%24alt=json%3Benum-encoding%3Dint (127.0.0.1) 506.75ms\n",
      "WARNING:tornado.access:429 POST /v1beta/tunedModels/speechacts-coarse3-9437:generateContent?%24alt=json%3Benum-encoding%3Dint (127.0.0.1) 456.60ms\n",
      "WARNING:tornado.access:429 POST /v1beta/tunedModels/speechacts-coarse3-9437:generateContent?%24alt=json%3Benum-encoding%3Dint (127.0.0.1) 456.75ms\n"
     ]
    },
    {
     "name": "stdout",
     "output_type": "stream",
     "text": [
      "EXPRESSIVE\n",
      "raus aus Deutschland.\n"
     ]
    },
    {
     "name": "stderr",
     "output_type": "stream",
     "text": [
      "WARNING:tornado.access:429 POST /v1beta/tunedModels/speechacts-coarse3-9437:generateContent?%24alt=json%3Benum-encoding%3Dint (127.0.0.1) 558.55ms\n"
     ]
    },
    {
     "name": "stdout",
     "output_type": "stream",
     "text": [
      "DIRECTIVE\n",
      "Du bist eine religiöse Fanatikerin.\n"
     ]
    },
    {
     "name": "stderr",
     "output_type": "stream",
     "text": [
      "WARNING:tornado.access:429 POST /v1beta/tunedModels/speechacts-coarse3-9437:generateContent?%24alt=json%3Benum-encoding%3Dint (127.0.0.1) 458.25ms\n",
      "WARNING:tornado.access:429 POST /v1beta/tunedModels/speechacts-coarse3-9437:generateContent?%24alt=json%3Benum-encoding%3Dint (127.0.0.1) 456.49ms\n",
      "WARNING:tornado.access:429 POST /v1beta/tunedModels/speechacts-coarse3-9437:generateContent?%24alt=json%3Benum-encoding%3Dint (127.0.0.1) 456.27ms\n",
      "WARNING:tornado.access:429 POST /v1beta/tunedModels/speechacts-coarse3-9437:generateContent?%24alt=json%3Benum-encoding%3Dint (127.0.0.1) 456.36ms\n",
      "WARNING:tornado.access:429 POST /v1beta/tunedModels/speechacts-coarse3-9437:generateContent?%24alt=json%3Benum-encoding%3Dint (127.0.0.1) 433.13ms\n",
      "WARNING:tornado.access:429 POST /v1beta/tunedModels/speechacts-coarse3-9437:generateContent?%24alt=json%3Benum-encoding%3Dint (127.0.0.1) 481.60ms\n"
     ]
    },
    {
     "name": "stdout",
     "output_type": "stream",
     "text": [
      "EXPRESSIVE\n",
      "|LBR| Arme Deutsche Bürger,\n",
      "EXPRESSIVE\n",
      "@toteraufurlaub @togliatti47\n",
      "DIRECTIVE\n",
      "Trump würde ich noch wegen Nachrichtenwert akzeptieren.\n",
      "DIRECTIVE\n",
      "Geh kacken,\n",
      "DIRECTIVE\n",
      "|LBR| Ich blocke den jetzt, weil bei ihm und seiner Blase wachsen mir sonst noch rosa Häschenohren!\n",
      "DIRECTIVE\n",
      "#fcsp\n",
      "DIRECTIVE\n",
      "Dann werden die Pickelgesichter bekommen was sie verdienen.\n",
      "DIRECTIVE\n",
      "Macht endlich diesen umweltheinis einen heißen Hintern\n",
      "DIRECTIVE\n",
      "Biologisch sind wir Säugetiere, doch unsere kognitiven Fähigkeiten befähigen uns zur Umgestaltung unserer Lebenswelt, Weitergabe von Wissen, Schaffen gemeinsamer Kultur, Abstraktion bis zur mathematischen Formalsprache.\n",
      "DIRECTIVE\n",
      "Außer wir Nazis natürlich\n",
      "EXPRESSIVE\n",
      "Regensburg hatte nur Glück ...\n",
      "ASSERTIVE\n",
      "Hinter dem Kapital steht der Faschismus!\n",
      "DIRECTIVE\n",
      "😇😅\n",
      "DIRECTIVE\n",
      "Sie sollten dringend ärztlichen Beistand suchen.\n",
      "DIRECTIVE\n",
      "@allesVersuch\n",
      "DIRECTIVE\n",
      "@TobiasHuch\n",
      "DIRECTIVE\n",
      "Kataras und Tophs Sprecher sind Bae und Zuko klingt nicht als hätte ihn sein Vater zur Narbe auchnoch kastriert\n"
     ]
    },
    {
     "name": "stderr",
     "output_type": "stream",
     "text": [
      "WARNING:tornado.access:429 POST /v1beta/tunedModels/speechacts-coarse3-9437:generateContent?%24alt=json%3Benum-encoding%3Dint (127.0.0.1) 506.64ms\n",
      "WARNING:tornado.access:429 POST /v1beta/tunedModels/speechacts-coarse3-9437:generateContent?%24alt=json%3Benum-encoding%3Dint (127.0.0.1) 583.61ms\n",
      "WARNING:tornado.access:429 POST /v1beta/tunedModels/speechacts-coarse3-9437:generateContent?%24alt=json%3Benum-encoding%3Dint (127.0.0.1) 481.96ms\n",
      "WARNING:tornado.access:429 POST /v1beta/tunedModels/speechacts-coarse3-9437:generateContent?%24alt=json%3Benum-encoding%3Dint (127.0.0.1) 457.15ms\n"
     ]
    },
    {
     "name": "stdout",
     "output_type": "stream",
     "text": [
      "ASSERTIVE\n",
      "Deutschland wacht auf, Herr Restle.\n"
     ]
    },
    {
     "name": "stderr",
     "output_type": "stream",
     "text": [
      "WARNING:tornado.access:429 POST /v1beta/tunedModels/speechacts-coarse3-9437:generateContent?%24alt=json%3Benum-encoding%3Dint (127.0.0.1) 532.28ms\n",
      "WARNING:tornado.access:429 POST /v1beta/tunedModels/speechacts-coarse3-9437:generateContent?%24alt=json%3Benum-encoding%3Dint (127.0.0.1) 481.98ms\n",
      "WARNING:tornado.access:429 POST /v1beta/tunedModels/speechacts-coarse3-9437:generateContent?%24alt=json%3Benum-encoding%3Dint (127.0.0.1) 482.72ms\n",
      "WARNING:tornado.access:429 POST /v1beta/tunedModels/speechacts-coarse3-9437:generateContent?%24alt=json%3Benum-encoding%3Dint (127.0.0.1) 456.12ms\n",
      "WARNING:tornado.access:429 POST /v1beta/tunedModels/speechacts-coarse3-9437:generateContent?%24alt=json%3Benum-encoding%3Dint (127.0.0.1) 481.33ms\n",
      "WARNING:tornado.access:429 POST /v1beta/tunedModels/speechacts-coarse3-9437:generateContent?%24alt=json%3Benum-encoding%3Dint (127.0.0.1) 456.34ms\n"
     ]
    },
    {
     "name": "stdout",
     "output_type": "stream",
     "text": [
      "ASSERTIVE\n",
      "@HgnvonTraene\n",
      "DIRECTIVE\n",
      "Vielleicht hatte sie ihre Tage, oder so.\n",
      "ASSERTIVE\n",
      "unter Stalin hätte er die ganze Autobahn alleine bauen müssen\n",
      "ASSERTIVE\n",
      "#SPD Kampfkandidaturen über ihre Liste für die Wahl zum #EU-Parlament\n",
      "DIRECTIVE\n",
      "@SPIEGELONLINE\n",
      "DIRECTIVE\n",
      "@Anke52936620 @Galactica2019 @Adolfion2X44 @frazionetoskana @RSigurdurson @outofvalhalla @Futureworldxxl @Lanyihunter1 @assassina36 @karina140911 @bergifrau00\n",
      "DIRECTIVE\n",
      "|LBR| #4genderstudies\n",
      "DIRECTIVE\n",
      "#ARD\n",
      "DIRECTIVE\n",
      "Hoffentlich finden Sie alle Schweine!\n",
      "DIRECTIVE\n",
      "Steht ja in Deinem Heiligen Buch drin.\n",
      "ASSERTIVE\n",
      "@Bea76190653 @Tapetenlama\n",
      "DIRECTIVE\n",
      "Ist abgehört worden.\n",
      "ASSERTIVE\n",
      "mir klappen Dien Fußnägel hoch\n",
      "DIRECTIVE\n",
      "werde auf dem weg nach brandenburg im zug von den alten provinzfaschos begrüßt.\n",
      "DIRECTIVE\n",
      "@VonSchwer @Tinimaus1110 @SPIEGELONLINE\n"
     ]
    },
    {
     "name": "stderr",
     "output_type": "stream",
     "text": [
      "WARNING:tornado.access:429 POST /v1beta/tunedModels/speechacts-coarse3-9437:generateContent?%24alt=json%3Benum-encoding%3Dint (127.0.0.1) 532.86ms\n",
      "WARNING:tornado.access:429 POST /v1beta/tunedModels/speechacts-coarse3-9437:generateContent?%24alt=json%3Benum-encoding%3Dint (127.0.0.1) 457.53ms\n",
      "WARNING:tornado.access:429 POST /v1beta/tunedModels/speechacts-coarse3-9437:generateContent?%24alt=json%3Benum-encoding%3Dint (127.0.0.1) 607.97ms\n"
     ]
    },
    {
     "name": "stdout",
     "output_type": "stream",
     "text": [
      "DIRECTIVE\n",
      "WTF?\n"
     ]
    },
    {
     "name": "stderr",
     "output_type": "stream",
     "text": [
      "WARNING:tornado.access:429 POST /v1beta/tunedModels/speechacts-coarse3-9437:generateContent?%24alt=json%3Benum-encoding%3Dint (127.0.0.1) 532.16ms\n"
     ]
    },
    {
     "name": "stdout",
     "output_type": "stream",
     "text": [
      "DIRECTIVE\n",
      "@GeorgKleine @APVogt @WildeGesellin\n"
     ]
    },
    {
     "name": "stderr",
     "output_type": "stream",
     "text": [
      "WARNING:tornado.access:429 POST /v1beta/tunedModels/speechacts-coarse3-9437:generateContent?%24alt=json%3Benum-encoding%3Dint (127.0.0.1) 507.81ms\n"
     ]
    },
    {
     "name": "stdout",
     "output_type": "stream",
     "text": [
      "DIRECTIVE\n",
      "@DanielDOrville2 @jogginghosenafa\n"
     ]
    },
    {
     "name": "stderr",
     "output_type": "stream",
     "text": [
      "WARNING:tornado.access:429 POST /v1beta/tunedModels/speechacts-coarse3-9437:generateContent?%24alt=json%3Benum-encoding%3Dint (127.0.0.1) 508.17ms\n",
      "WARNING:tornado.access:429 POST /v1beta/tunedModels/speechacts-coarse3-9437:generateContent?%24alt=json%3Benum-encoding%3Dint (127.0.0.1) 481.63ms\n",
      "WARNING:tornado.access:429 POST /v1beta/tunedModels/speechacts-coarse3-9437:generateContent?%24alt=json%3Benum-encoding%3Dint (127.0.0.1) 532.75ms\n",
      "WARNING:tornado.access:429 POST /v1beta/tunedModels/speechacts-coarse3-9437:generateContent?%24alt=json%3Benum-encoding%3Dint (127.0.0.1) 481.52ms\n",
      "WARNING:tornado.access:429 POST /v1beta/tunedModels/speechacts-coarse3-9437:generateContent?%24alt=json%3Benum-encoding%3Dint (127.0.0.1) 455.34ms\n",
      "WARNING:tornado.access:429 POST /v1beta/tunedModels/speechacts-coarse3-9437:generateContent?%24alt=json%3Benum-encoding%3Dint (127.0.0.1) 431.29ms\n",
      "WARNING:tornado.access:429 POST /v1beta/tunedModels/speechacts-coarse3-9437:generateContent?%24alt=json%3Benum-encoding%3Dint (127.0.0.1) 456.51ms\n",
      "WARNING:tornado.access:429 POST /v1beta/tunedModels/speechacts-coarse3-9437:generateContent?%24alt=json%3Benum-encoding%3Dint (127.0.0.1) 456.13ms\n"
     ]
    },
    {
     "name": "stdout",
     "output_type": "stream",
     "text": [
      "DIRECTIVE\n",
      "|LBR| Was trennt Menschen von Tieren?\n",
      "ASSERTIVE\n",
      "\"Verdientes Remis\"?\n",
      "DIRECTIVE\n",
      "Das ist ja gerade das gruselige.\n",
      "ASSERTIVE\n",
      "@bestdamnalex\n",
      "DIRECTIVE\n",
      "@rene_tudor @BjoernHoecke\n",
      "DIRECTIVE\n",
      "Antisemitismus-Keule nehmen, mit Vaseline beschmieren und rektal einführen...\n",
      "DIRECTIVE\n",
      "SED treu.\n",
      "DIRECTIVE\n",
      "Am besten, keine Artikel mehr twittern, nicht mehr folgen\n",
      "ASSERTIVE\n",
      "|LBR| Anders als unsere lustlose Fußball-Truppe gleichen Namens, bestehend aus verzogenen Balltretern, die alles mögliche, nur keine Mannschaft sind.\n",
      "ASSERTIVE\n",
      "Der Bastard ist in Afghanistan untergetaucht!\n",
      "EXPRESSIVE\n",
      "@PolitburoGamer\n",
      "DIRECTIVE\n",
      "|LBR| Die linke,deutsch/islamische #Bundesregierung kann den #korantreuen #Moslems #IS #Hamas doch gleich den Schlüssel zu Deutschland überreichen.\n",
      "EXPRESSIVE\n",
      "Aber das erwarte ich von einer Muslima auch nicht.\n",
      "EXPRESSIVE\n",
      "sag bescheid, wenn er zu Scheiße geworden ist\n",
      "DIRECTIVE\n",
      "Die mutigen Journalisten von #AlJazeera -\n",
      "DIRECTIVE\n",
      "@ThomasWalde @ZDF\n",
      "DIRECTIVE\n",
      "Next up: |LBR| \"Die Kolonialisierung der Studentenhirne - Lyzis Welt über 40 Jahre kritische Poptheorie\"\n",
      "ASSERTIVE\n",
      "Ist das nicht die mit den vielen Analphabeten in ihrer Familie..?\n"
     ]
    },
    {
     "name": "stderr",
     "output_type": "stream",
     "text": [
      "WARNING:tornado.access:429 POST /v1beta/tunedModels/speechacts-coarse3-9437:generateContent?%24alt=json%3Benum-encoding%3Dint (127.0.0.1) 506.29ms\n",
      "WARNING:tornado.access:429 POST /v1beta/tunedModels/speechacts-coarse3-9437:generateContent?%24alt=json%3Benum-encoding%3Dint (127.0.0.1) 457.62ms\n",
      "WARNING:tornado.access:429 POST /v1beta/tunedModels/speechacts-coarse3-9437:generateContent?%24alt=json%3Benum-encoding%3Dint (127.0.0.1) 582.35ms\n",
      "WARNING:tornado.access:429 POST /v1beta/tunedModels/speechacts-coarse3-9437:generateContent?%24alt=json%3Benum-encoding%3Dint (127.0.0.1) 608.08ms\n",
      "WARNING:tornado.access:429 POST /v1beta/tunedModels/speechacts-coarse3-9437:generateContent?%24alt=json%3Benum-encoding%3Dint (127.0.0.1) 481.65ms\n",
      "WARNING:tornado.access:429 POST /v1beta/tunedModels/speechacts-coarse3-9437:generateContent?%24alt=json%3Benum-encoding%3Dint (127.0.0.1) 456.77ms\n",
      "WARNING:tornado.access:429 POST /v1beta/tunedModels/speechacts-coarse3-9437:generateContent?%24alt=json%3Benum-encoding%3Dint (127.0.0.1) 532.97ms\n",
      "WARNING:tornado.access:429 POST /v1beta/tunedModels/speechacts-coarse3-9437:generateContent?%24alt=json%3Benum-encoding%3Dint (127.0.0.1) 456.50ms\n",
      "WARNING:tornado.access:429 POST /v1beta/tunedModels/speechacts-coarse3-9437:generateContent?%24alt=json%3Benum-encoding%3Dint (127.0.0.1) 482.01ms\n",
      "WARNING:tornado.access:429 POST /v1beta/tunedModels/speechacts-coarse3-9437:generateContent?%24alt=json%3Benum-encoding%3Dint (127.0.0.1) 455.79ms\n"
     ]
    },
    {
     "name": "stdout",
     "output_type": "stream",
     "text": [
      "ASSERTIVE\n",
      "@SPIEGEL_Politik\n",
      "DIRECTIVE\n",
      "Fickt doch eure dummen Feuerwerke\n",
      "DIRECTIVE\n",
      "#maischberger\n",
      "DIRECTIVE\n",
      "Africhinese.\n",
      "DIRECTIVE\n",
      "#CDU-Generalsekretär |LBR| #Ziemiak lässt Amt als JU-Chef ruhen,\n",
      "DIRECTIVE\n",
      "Wer sich von Zionisten für Propaganda ein Gehalt bezahlen lässt, ist alles andere, aber nicht unabhängig.\n",
      "EXPRESSIVE\n",
      "@friesbol @klasnaborba\n",
      "DIRECTIVE\n",
      "Kann jeder googeln.\n",
      "DIRECTIVE\n",
      "@DeutschPI\n",
      "DIRECTIVE\n",
      "Diese Islam existiert aber nur und ausschließlich in den Taquia Reden der Talkshow-Virzeigemoslems\n",
      "EXPRESSIVE\n",
      "Da Kinder schänden, im #Islam kein wirkliches Verbrechen ist.\n",
      "ASSERTIVE\n",
      "heiligsblechle...\n",
      "DIRECTIVE\n",
      "Nur, dass diese Sorte Mensch vorher von keinen Befürchtungen etwas wissen wollte, solange aus der Sache Selbstbestätigung resultierte.\n",
      "ASSERTIVE\n",
      "Keine Verzweiflung.\n",
      "ASSERTIVE\n",
      "Typisch deutsche Schülerin.\n",
      "EXPRESSIVE\n",
      "Größenwahnsinnig.\n"
     ]
    },
    {
     "name": "stderr",
     "output_type": "stream",
     "text": [
      "WARNING:tornado.access:429 POST /v1beta/tunedModels/speechacts-coarse3-9437:generateContent?%24alt=json%3Benum-encoding%3Dint (127.0.0.1) 531.51ms\n"
     ]
    },
    {
     "name": "stdout",
     "output_type": "stream",
     "text": [
      "DIRECTIVE\n",
      "Mittlerweile werden deutsche Frauen die Hilfe brauchen abgewiesen, weil nicht genug Plätze vorhanden sind.\n"
     ]
    },
    {
     "name": "stderr",
     "output_type": "stream",
     "text": [
      "WARNING:tornado.access:429 POST /v1beta/tunedModels/speechacts-coarse3-9437:generateContent?%24alt=json%3Benum-encoding%3Dint (127.0.0.1) 581.92ms\n"
     ]
    },
    {
     "name": "stdout",
     "output_type": "stream",
     "text": [
      "ASSERTIVE\n",
      "😁\n"
     ]
    },
    {
     "name": "stderr",
     "output_type": "stream",
     "text": [
      "WARNING:tornado.access:429 POST /v1beta/tunedModels/speechacts-coarse3-9437:generateContent?%24alt=json%3Benum-encoding%3Dint (127.0.0.1) 506.40ms\n",
      "WARNING:tornado.access:429 POST /v1beta/tunedModels/speechacts-coarse3-9437:generateContent?%24alt=json%3Benum-encoding%3Dint (127.0.0.1) 481.12ms\n",
      "WARNING:tornado.access:429 POST /v1beta/tunedModels/speechacts-coarse3-9437:generateContent?%24alt=json%3Benum-encoding%3Dint (127.0.0.1) 482.10ms\n",
      "WARNING:tornado.access:429 POST /v1beta/tunedModels/speechacts-coarse3-9437:generateContent?%24alt=json%3Benum-encoding%3Dint (127.0.0.1) 482.37ms\n",
      "WARNING:tornado.access:429 POST /v1beta/tunedModels/speechacts-coarse3-9437:generateContent?%24alt=json%3Benum-encoding%3Dint (127.0.0.1) 456.81ms\n",
      "WARNING:tornado.access:429 POST /v1beta/tunedModels/speechacts-coarse3-9437:generateContent?%24alt=json%3Benum-encoding%3Dint (127.0.0.1) 457.83ms\n",
      "WARNING:tornado.access:429 POST /v1beta/tunedModels/speechacts-coarse3-9437:generateContent?%24alt=json%3Benum-encoding%3Dint (127.0.0.1) 481.31ms\n",
      "WARNING:tornado.access:429 POST /v1beta/tunedModels/speechacts-coarse3-9437:generateContent?%24alt=json%3Benum-encoding%3Dint (127.0.0.1) 481.63ms\n"
     ]
    },
    {
     "name": "stdout",
     "output_type": "stream",
     "text": [
      "EXPRESSIVE\n",
      "das wäre gut für Niedriglöhner Hartz IV Empfänger aber warum sollen auch Reiche |LBR| kostenlose Kitas haben?\n",
      "ASSERTIVE\n",
      "Bei dem war doch am Vorabend, einer von 20 #Chorknaben schlecht.\n",
      "NULL\n",
      "@Lokalfuerst\n",
      "DIRECTIVE\n",
      "Gesellschaftliche Verantwortung?\n",
      "ASSERTIVE\n",
      "geh zurück,\n",
      "DIRECTIVE\n",
      "😂😂😂\n",
      "EXPRESSIVE\n",
      "|LBR| Ich folge.\n",
      "ASSERTIVE\n",
      "Die perverse und dreckige Seite von schön #bunt #diversity\n",
      "EXPRESSIVE\n",
      "@Beatrix_vStorch @hrfernsehen\n",
      "DIRECTIVE\n",
      "@MENA_WATCH @Ilona_GR_DE @CarolHakios @Kaputtnikkkk @palactnet @stefanolix @SDGMasterglass @czsystuvx @Netzengel @TiloJung @JungNaiv @guyelster @benabyad @GreatReturnMa @UNGeneva @BR24\n",
      "DIRECTIVE\n",
      "Und das immer wieder, und bei allen Gelegenheiten.\n",
      "ASSERTIVE\n",
      "@heuteplus @ZDF\n",
      "DIRECTIVE\n",
      "|LBR| „Times“ befand, die #Merkel #CDU habe #May „gedemütigt“.\n",
      "DIRECTIVE\n",
      "Wenn Trump der neue Hitler ist, |LBR| Was ist dann Clinton??\n",
      "DIRECTIVE\n",
      "|LBR| Glaubt nicht ihre Lügen\n",
      "ASSERTIVE\n",
      "@Ollee3 @Ranzigeimme\n"
     ]
    },
    {
     "name": "stderr",
     "output_type": "stream",
     "text": [
      "WARNING:tornado.access:429 POST /v1beta/tunedModels/speechacts-coarse3-9437:generateContent?%24alt=json%3Benum-encoding%3Dint (127.0.0.1) 507.44ms\n"
     ]
    },
    {
     "name": "stdout",
     "output_type": "stream",
     "text": [
      "DIRECTIVE\n",
      "#Grüne\n"
     ]
    },
    {
     "name": "stderr",
     "output_type": "stream",
     "text": [
      "WARNING:tornado.access:429 POST /v1beta/tunedModels/speechacts-coarse3-9437:generateContent?%24alt=json%3Benum-encoding%3Dint (127.0.0.1) 507.33ms\n"
     ]
    },
    {
     "name": "stdout",
     "output_type": "stream",
     "text": [
      "DIRECTIVE\n",
      "\"Das „generische Maskulinum“ sei nun einmal weit verbreitet und jeder wisse, dass Frauen hier eingeschlossen seien.\n"
     ]
    },
    {
     "name": "stderr",
     "output_type": "stream",
     "text": [
      "WARNING:tornado.access:429 POST /v1beta/tunedModels/speechacts-coarse3-9437:generateContent?%24alt=json%3Benum-encoding%3Dint (127.0.0.1) 506.47ms\n",
      "WARNING:tornado.access:429 POST /v1beta/tunedModels/speechacts-coarse3-9437:generateContent?%24alt=json%3Benum-encoding%3Dint (127.0.0.1) 456.63ms\n",
      "WARNING:tornado.access:429 POST /v1beta/tunedModels/speechacts-coarse3-9437:generateContent?%24alt=json%3Benum-encoding%3Dint (127.0.0.1) 482.79ms\n",
      "WARNING:tornado.access:429 POST /v1beta/tunedModels/speechacts-coarse3-9437:generateContent?%24alt=json%3Benum-encoding%3Dint (127.0.0.1) 482.38ms\n",
      "WARNING:tornado.access:429 POST /v1beta/tunedModels/speechacts-coarse3-9437:generateContent?%24alt=json%3Benum-encoding%3Dint (127.0.0.1) 482.70ms\n",
      "WARNING:tornado.access:429 POST /v1beta/tunedModels/speechacts-coarse3-9437:generateContent?%24alt=json%3Benum-encoding%3Dint (127.0.0.1) 481.31ms\n",
      "WARNING:tornado.access:429 POST /v1beta/tunedModels/speechacts-coarse3-9437:generateContent?%24alt=json%3Benum-encoding%3Dint (127.0.0.1) 456.90ms\n",
      "WARNING:tornado.access:429 POST /v1beta/tunedModels/speechacts-coarse3-9437:generateContent?%24alt=json%3Benum-encoding%3Dint (127.0.0.1) 480.99ms\n"
     ]
    },
    {
     "name": "stdout",
     "output_type": "stream",
     "text": [
      "ASSERTIVE\n",
      "\\U270C🏻\n",
      "DIRECTIVE\n",
      "🙃\n",
      "DIRECTIVE\n",
      "Dienst fürs Volk\n",
      "ASSERTIVE\n",
      "Ich lehne den Islam in seiner Gänze ab.\n",
      "DIRECTIVE\n",
      "Sollen die auch ihre Kultur ausüben dürfen?\n",
      "DIRECTIVE\n",
      "Ihre Haut sieht ja fürchterlich aus und dann das ständige blinzeln\n",
      "EXPRESSIVE\n",
      "Ein anderes wäre: Witze über Minderheiten.\n",
      "DIRECTIVE\n",
      "☺\n",
      "EXPRESSIVE\n",
      "Stimmt das?\n",
      "DIRECTIVE\n",
      "Lesen Sie meinen Tweet noch mal und achten Sie dabei auf die gewählte Form des Hilfsverbs:\n",
      "DIRECTIVE\n",
      "Der Pimpf ist Goebbels 2.0.\n",
      "ASSERTIVE\n",
      "„Mit einem Gegenstand“ zynischer geht es kaum.\n",
      "ASSERTIVE\n",
      "🖕🏻\n",
      "DIRECTIVE\n",
      "das fängt beim beschatten auf demos an, geht zur verfolgung bis vor die haustür weiter und hört auf wenn du zusammengetreten wirst.\n",
      "ASSERTIVE\n",
      "|LBR| gestern wieder alle mitgefiebert, als unsere deutschen Jungs auch den Iberern deren Grenzen aufgezeigt haben?\n",
      "DIRECTIVE\n",
      "- aber wenn sie der Schariapartei entgegengesetzt wird, gerne doch!\n",
      "DIRECTIVE\n",
      "@nprncbl\n"
     ]
    },
    {
     "name": "stderr",
     "output_type": "stream",
     "text": [
      "WARNING:tornado.access:429 POST /v1beta/tunedModels/speechacts-coarse3-9437:generateContent?%24alt=json%3Benum-encoding%3Dint (127.0.0.1) 505.74ms\n",
      "WARNING:tornado.access:429 POST /v1beta/tunedModels/speechacts-coarse3-9437:generateContent?%24alt=json%3Benum-encoding%3Dint (127.0.0.1) 507.47ms\n",
      "WARNING:tornado.access:429 POST /v1beta/tunedModels/speechacts-coarse3-9437:generateContent?%24alt=json%3Benum-encoding%3Dint (127.0.0.1) 457.72ms\n",
      "WARNING:tornado.access:429 POST /v1beta/tunedModels/speechacts-coarse3-9437:generateContent?%24alt=json%3Benum-encoding%3Dint (127.0.0.1) 457.65ms\n",
      "WARNING:tornado.access:429 POST /v1beta/tunedModels/speechacts-coarse3-9437:generateContent?%24alt=json%3Benum-encoding%3Dint (127.0.0.1) 456.41ms\n",
      "WARNING:tornado.access:429 POST /v1beta/tunedModels/speechacts-coarse3-9437:generateContent?%24alt=json%3Benum-encoding%3Dint (127.0.0.1) 456.47ms\n",
      "WARNING:tornado.access:429 POST /v1beta/tunedModels/speechacts-coarse3-9437:generateContent?%24alt=json%3Benum-encoding%3Dint (127.0.0.1) 456.97ms\n"
     ]
    },
    {
     "name": "stdout",
     "output_type": "stream",
     "text": [
      "DIRECTIVE\n",
      "Du drehst es Dir wie du es brauchst.\n"
     ]
    },
    {
     "name": "stderr",
     "output_type": "stream",
     "text": [
      "WARNING:tornado.access:429 POST /v1beta/tunedModels/speechacts-coarse3-9437:generateContent?%24alt=json%3Benum-encoding%3Dint (127.0.0.1) 507.80ms\n",
      "WARNING:tornado.access:429 POST /v1beta/tunedModels/speechacts-coarse3-9437:generateContent?%24alt=json%3Benum-encoding%3Dint (127.0.0.1) 456.66ms\n",
      "WARNING:tornado.access:429 POST /v1beta/tunedModels/speechacts-coarse3-9437:generateContent?%24alt=json%3Benum-encoding%3Dint (127.0.0.1) 456.70ms\n",
      "WARNING:tornado.access:429 POST /v1beta/tunedModels/speechacts-coarse3-9437:generateContent?%24alt=json%3Benum-encoding%3Dint (127.0.0.1) 456.97ms\n",
      "WARNING:tornado.access:429 POST /v1beta/tunedModels/speechacts-coarse3-9437:generateContent?%24alt=json%3Benum-encoding%3Dint (127.0.0.1) 455.94ms\n"
     ]
    },
    {
     "name": "stdout",
     "output_type": "stream",
     "text": [
      "SDIRECTIVE\n",
      "Mit Schimp und Schande, geteert und gefedert?\n",
      "DIRECTIVE\n",
      "|LBR| Wers begreift wird zum Nazi erklärt.\n",
      "DIRECTIVE\n",
      "Wie viele Messerattacken, Gruppenvergewaltigungen und Terrorangriffe sind wir bereit hinzunehmen, bevor wir unsere Zurückhaltung aufgeben?\n",
      "DIRECTIVE\n",
      "bin ich jetzt stärker oder Opfer in der Gesellschaft?\"\n",
      "DIRECTIVE\n",
      "Warum veröffentlicht ihr keine Bilder von linken Anarchisten?\n",
      "DIRECTIVE\n",
      "Warum LINKS oder SOZIALISMUS nie überlebt??\n",
      "ASSERTIVE\n",
      "@polizei_nrw_ge\n",
      "DIRECTIVE\n",
      "Schlafschafe, Angsthasen ,Egoisten, die Mehrheit der Deutschen, gehen nicht zur Wahl.\n",
      "DIRECTIVE\n",
      "@Erdrandbewohner\n",
      "DIRECTIVE\n",
      "@GeorgDiez1\n",
      "DIRECTIVE\n",
      "@ThomasOppermann\n",
      "DIRECTIVE\n",
      "Ja eben scheiß #Humanismus\n",
      "DIRECTIVE\n",
      "Hier sieht man primär ein Foto mit einem Text darunter.\n",
      "ASSERTIVE\n",
      "Dein Umfeld verwundert doch etwa.\n",
      "EXPRESSIVE\n",
      "😃😃\n"
     ]
    },
    {
     "name": "stderr",
     "output_type": "stream",
     "text": [
      "WARNING:tornado.access:429 POST /v1beta/tunedModels/speechacts-coarse3-9437:generateContent?%24alt=json%3Benum-encoding%3Dint (127.0.0.1) 810.12ms\n"
     ]
    },
    {
     "name": "stdout",
     "output_type": "stream",
     "text": [
      "EXPRESSIVE\n",
      "ist allerdings 500 MB groß...\n"
     ]
    },
    {
     "name": "stderr",
     "output_type": "stream",
     "text": [
      "WARNING:tornado.access:429 POST /v1beta/tunedModels/speechacts-coarse3-9437:generateContent?%24alt=json%3Benum-encoding%3Dint (127.0.0.1) 509.35ms\n",
      "WARNING:tornado.access:429 POST /v1beta/tunedModels/speechacts-coarse3-9437:generateContent?%24alt=json%3Benum-encoding%3Dint (127.0.0.1) 481.61ms\n",
      "WARNING:tornado.access:429 POST /v1beta/tunedModels/speechacts-coarse3-9437:generateContent?%24alt=json%3Benum-encoding%3Dint (127.0.0.1) 456.17ms\n",
      "WARNING:tornado.access:429 POST /v1beta/tunedModels/speechacts-coarse3-9437:generateContent?%24alt=json%3Benum-encoding%3Dint (127.0.0.1) 582.54ms\n",
      "WARNING:tornado.access:429 POST /v1beta/tunedModels/speechacts-coarse3-9437:generateContent?%24alt=json%3Benum-encoding%3Dint (127.0.0.1) 482.85ms\n",
      "WARNING:tornado.access:429 POST /v1beta/tunedModels/speechacts-coarse3-9437:generateContent?%24alt=json%3Benum-encoding%3Dint (127.0.0.1) 481.38ms\n",
      "WARNING:tornado.access:429 POST /v1beta/tunedModels/speechacts-coarse3-9437:generateContent?%24alt=json%3Benum-encoding%3Dint (127.0.0.1) 456.34ms\n",
      "WARNING:tornado.access:429 POST /v1beta/tunedModels/speechacts-coarse3-9437:generateContent?%24alt=json%3Benum-encoding%3Dint (127.0.0.1) 455.62ms\n",
      "WARNING:tornado.access:429 POST /v1beta/tunedModels/speechacts-coarse3-9437:generateContent?%24alt=json%3Benum-encoding%3Dint (127.0.0.1) 456.06ms\n",
      "WARNING:tornado.access:429 POST /v1beta/tunedModels/speechacts-coarse3-9437:generateContent?%24alt=json%3Benum-encoding%3Dint (127.0.0.1) 431.12ms\n",
      "WARNING:tornado.access:429 POST /v1beta/tunedModels/speechacts-coarse3-9437:generateContent?%24alt=json%3Benum-encoding%3Dint (127.0.0.1) 457.20ms\n"
     ]
    },
    {
     "name": "stdout",
     "output_type": "stream",
     "text": [
      "ASSERTIVE\n",
      "@anna_IIna @PeterPa34083139\n",
      "DIRECTIVE\n",
      "|LBR| Leider funktioniert das nicht so.\n",
      "ASSERTIVE\n",
      "Gottseidank ist dem nicht so...\n",
      "EXPRESSIVE\n",
      "Sehr gefährlich und ignoriert.\n",
      "EXPRESSIVE\n",
      "Gamer: \"Frauen gucken uns mit dem Arsch nicht an!\n",
      "ASSERTIVE\n",
      "Wir haben Euch schon im 17. Jahrhundert davongejagt.\n",
      "ASSERTIVE\n",
      "@Neuber_Forst @schweizok2 @RenateKuenast\n",
      "DIRECTIVE\n",
      "@bimbas_world @safe_ID35\n",
      "DIRECTIVE\n",
      "😎\\U261D\n",
      "DIRECTIVE\n",
      "@cyclinginside\n",
      "DIRECTIVE\n",
      "@SWagenknecht\n",
      "DIRECTIVE\n",
      "@TomMayerEuropa\n",
      "DIRECTIVE\n",
      "@JoachimRock @Paritaet\n",
      "DIRECTIVE\n",
      "Und die Anträge füllen willige Helferinnen und Sozialarbeiterinnen aus.\n"
     ]
    },
    {
     "name": "stderr",
     "output_type": "stream",
     "text": [
      "WARNING:tornado.access:429 POST /v1beta/tunedModels/speechacts-coarse3-9437:generateContent?%24alt=json%3Benum-encoding%3Dint (127.0.0.1) 506.92ms\n"
     ]
    },
    {
     "name": "stdout",
     "output_type": "stream",
     "text": [
      "ASSERTIVE\n",
      "leckt mich!\n",
      "DIRECTIVE\n",
      "Die Integrität des Schanzendaches wird durch das starke verlangen niemals Wingl zu berühren extrem verstärkt.\n",
      "ASSERTIVE\n",
      "Wer die Geschichte kennt weiß das ein Banken System ohne uns niemals möglich gewesen wäre.\n"
     ]
    },
    {
     "name": "stderr",
     "output_type": "stream",
     "text": [
      "WARNING:tornado.access:429 POST /v1beta/tunedModels/speechacts-coarse3-9437:generateContent?%24alt=json%3Benum-encoding%3Dint (127.0.0.1) 506.63ms\n",
      "WARNING:tornado.access:429 POST /v1beta/tunedModels/speechacts-coarse3-9437:generateContent?%24alt=json%3Benum-encoding%3Dint (127.0.0.1) 456.47ms\n",
      "WARNING:tornado.access:429 POST /v1beta/tunedModels/speechacts-coarse3-9437:generateContent?%24alt=json%3Benum-encoding%3Dint (127.0.0.1) 456.52ms\n",
      "WARNING:tornado.access:429 POST /v1beta/tunedModels/speechacts-coarse3-9437:generateContent?%24alt=json%3Benum-encoding%3Dint (127.0.0.1) 456.84ms\n",
      "WARNING:tornado.access:429 POST /v1beta/tunedModels/speechacts-coarse3-9437:generateContent?%24alt=json%3Benum-encoding%3Dint (127.0.0.1) 608.00ms\n",
      "WARNING:tornado.access:429 POST /v1beta/tunedModels/speechacts-coarse3-9437:generateContent?%24alt=json%3Benum-encoding%3Dint (127.0.0.1) 456.52ms\n",
      "WARNING:tornado.access:429 POST /v1beta/tunedModels/speechacts-coarse3-9437:generateContent?%24alt=json%3Benum-encoding%3Dint (127.0.0.1) 456.31ms\n",
      "WARNING:tornado.access:429 POST /v1beta/tunedModels/speechacts-coarse3-9437:generateContent?%24alt=json%3Benum-encoding%3Dint (127.0.0.1) 456.18ms\n"
     ]
    },
    {
     "name": "stdout",
     "output_type": "stream",
     "text": [
      "ASSERTIVE\n",
      "ausserdem zeigt das die chats an ihr ottos\n",
      "EXPRESSIVE\n",
      "Sie haben doch eine veritable Vollmeise!\n"
     ]
    },
    {
     "name": "stderr",
     "output_type": "stream",
     "text": [
      "ERROR:tornado.access:500 POST /v1beta/tunedModels/speechacts-coarse3-9437:generateContent?%24alt=json%3Benum-encoding%3Dint (127.0.0.1) 2149.14ms\n"
     ]
    },
    {
     "name": "stdout",
     "output_type": "stream",
     "text": [
      "DIRECTIVE\n",
      "Und das sagt alles über Dich aus, was es wert ist, zu wissen.\n",
      "ASSERTIVE\n",
      "|LBR| Schönen Freitag.\n",
      "DIRECTIVE\n",
      "Heute: 15h #Frankfurt #HBF: Demo\n",
      "EXPRESSIVE\n",
      "Das ist seit 1945 nicht mehr der Fall,\n",
      "ASSERTIVE\n",
      "Schließlich haben alle ja \"Welcome Refugees\"gerufen.\n",
      "ASSERTIVE\n",
      "Möglicherweise bin ich der Einzige, der den heterosexuellen Mann vor dem Feminismus retten kann.\n",
      "DIRECTIVE\n",
      "@winterfruitloop\n",
      "DIRECTIVE\n",
      "deswegen hab ich so romantische bilder im kopp\n",
      "ASSERTIVE\n",
      "@IAMMASCHO @RAIMINEM\n",
      "DIRECTIVE\n",
      "Da sollten auch Asylanten eingesetzt werden, die für nichts abkassieren und sich den Tag über langweilen.\n",
      "DIRECTIVE\n",
      "#AKK Annegret Kramp-#Karrenbauer #CDU plant Gesprächsrunde zur Migrationspolitik.\n",
      "DIRECTIVE\n",
      "|LBR| Da bricht dein ganzes Weltbild zusammen.\n",
      "DIRECTIVE\n",
      "Wenn das zustande kommt müßte es eigentlich jeder merken das wir übergangen werden....!\n"
     ]
    },
    {
     "name": "stderr",
     "output_type": "stream",
     "text": [
      "WARNING:tornado.access:429 POST /v1beta/tunedModels/speechacts-coarse3-9437:generateContent?%24alt=json%3Benum-encoding%3Dint (127.0.0.1) 506.34ms\n",
      "WARNING:tornado.access:429 POST /v1beta/tunedModels/speechacts-coarse3-9437:generateContent?%24alt=json%3Benum-encoding%3Dint (127.0.0.1) 683.20ms\n"
     ]
    },
    {
     "name": "stdout",
     "output_type": "stream",
     "text": [
      "ASSERTIVE\n",
      "Als erstes #Merkelmussweg |LBR| dann |LBR| #AnnegretKrampKarrenbauermussweg oder für Weicheier #AKKmussweg\n",
      "DIRECTIVE\n",
      "Unfassbar.\n"
     ]
    },
    {
     "name": "stderr",
     "output_type": "stream",
     "text": [
      "WARNING:tornado.access:429 POST /v1beta/tunedModels/speechacts-coarse3-9437:generateContent?%24alt=json%3Benum-encoding%3Dint (127.0.0.1) 556.71ms\n",
      "WARNING:tornado.access:429 POST /v1beta/tunedModels/speechacts-coarse3-9437:generateContent?%24alt=json%3Benum-encoding%3Dint (127.0.0.1) 581.94ms\n",
      "WARNING:tornado.access:429 POST /v1beta/tunedModels/speechacts-coarse3-9437:generateContent?%24alt=json%3Benum-encoding%3Dint (127.0.0.1) 456.22ms\n",
      "WARNING:tornado.access:429 POST /v1beta/tunedModels/speechacts-coarse3-9437:generateContent?%24alt=json%3Benum-encoding%3Dint (127.0.0.1) 430.70ms\n",
      "WARNING:tornado.access:429 POST /v1beta/tunedModels/speechacts-coarse3-9437:generateContent?%24alt=json%3Benum-encoding%3Dint (127.0.0.1) 482.59ms\n",
      "WARNING:tornado.access:429 POST /v1beta/tunedModels/speechacts-coarse3-9437:generateContent?%24alt=json%3Benum-encoding%3Dint (127.0.0.1) 456.81ms\n"
     ]
    },
    {
     "name": "stdout",
     "output_type": "stream",
     "text": [
      "EXPRESSIVE\n",
      "@Grals_Hueter\n",
      "DIRECTIVE\n",
      "Den grauen Himmel ist man gar nicht gewohnt,\n",
      "ASSERTIVE\n",
      "@waldruhe\n",
      "DIRECTIVE\n",
      "@rspctfl @ThomasMichael71 @Innenwelttramp @ergroovt @houelle_beck @ksemann2 @DrKassandraPari\n",
      "DIRECTIVE\n",
      "Kommt mir vor, als ob uns Autofahrern demnächst so richtig der Arsch aufgerissen wird.\n",
      "DIRECTIVE\n",
      "@BILD\n",
      "DIRECTIVE\n",
      "Schaut euch einfach die dummen Köpfe an...\n",
      "DIRECTIVE\n",
      "@CommieEater\n",
      "DIRECTIVE\n",
      "|LBR| Nur noch ein Reply.\n",
      "ASSERTIVE\n",
      "@ZDFheute\n",
      "DIRECTIVE\n",
      "@haiderbekah\n",
      "DIRECTIVE\n",
      "#SPD-Vorsitzende Andrea #Nahles auf Twitter: \"#AKK Sie sind die #Merkel 2.0\n",
      "DIRECTIVE\n",
      "@SophiePassmann\n",
      "DIRECTIVE\n",
      "@PetrBystronAfD\n",
      "DIRECTIVE\n",
      "Nix darf man mehr, ey\n",
      "DIRECTIVE\n",
      "@ainyrockstar\n"
     ]
    },
    {
     "name": "stderr",
     "output_type": "stream",
     "text": [
      "WARNING:tornado.access:429 POST /v1beta/tunedModels/speechacts-coarse3-9437:generateContent?%24alt=json%3Benum-encoding%3Dint (127.0.0.1) 506.07ms\n",
      "WARNING:tornado.access:429 POST /v1beta/tunedModels/speechacts-coarse3-9437:generateContent?%24alt=json%3Benum-encoding%3Dint (127.0.0.1) 733.27ms\n",
      "WARNING:tornado.access:429 POST /v1beta/tunedModels/speechacts-coarse3-9437:generateContent?%24alt=json%3Benum-encoding%3Dint (127.0.0.1) 456.06ms\n",
      "WARNING:tornado.access:429 POST /v1beta/tunedModels/speechacts-coarse3-9437:generateContent?%24alt=json%3Benum-encoding%3Dint (127.0.0.1) 455.51ms\n",
      "WARNING:tornado.access:429 POST /v1beta/tunedModels/speechacts-coarse3-9437:generateContent?%24alt=json%3Benum-encoding%3Dint (127.0.0.1) 508.73ms\n",
      "WARNING:tornado.access:429 POST /v1beta/tunedModels/speechacts-coarse3-9437:generateContent?%24alt=json%3Benum-encoding%3Dint (127.0.0.1) 456.81ms\n"
     ]
    },
    {
     "name": "stdout",
     "output_type": "stream",
     "text": [
      "DIRECTIVE\n",
      "voller verrückter Mossis die Juden den Tod wünschen, aber keine Sorge: |LBR| Das ist Vielfalt, das ist bunt und eine Islamisierung findet nicht statt.\n",
      "EXPRESSIVE\n",
      "@ShakRiet\n"
     ]
    },
    {
     "name": "stderr",
     "output_type": "stream",
     "text": [
      "WARNING:tornado.access:429 POST /v1beta/tunedModels/speechacts-coarse3-9437:generateContent?%24alt=json%3Benum-encoding%3Dint (127.0.0.1) 506.89ms\n",
      "WARNING:tornado.access:429 POST /v1beta/tunedModels/speechacts-coarse3-9437:generateContent?%24alt=json%3Benum-encoding%3Dint (127.0.0.1) 455.38ms\n",
      "WARNING:tornado.access:429 POST /v1beta/tunedModels/speechacts-coarse3-9437:generateContent?%24alt=json%3Benum-encoding%3Dint (127.0.0.1) 456.64ms\n",
      "WARNING:tornado.access:429 POST /v1beta/tunedModels/speechacts-coarse3-9437:generateContent?%24alt=json%3Benum-encoding%3Dint (127.0.0.1) 457.03ms\n",
      "WARNING:tornado.access:429 POST /v1beta/tunedModels/speechacts-coarse3-9437:generateContent?%24alt=json%3Benum-encoding%3Dint (127.0.0.1) 506.55ms\n",
      "WARNING:tornado.access:429 POST /v1beta/tunedModels/speechacts-coarse3-9437:generateContent?%24alt=json%3Benum-encoding%3Dint (127.0.0.1) 456.46ms\n"
     ]
    },
    {
     "name": "stdout",
     "output_type": "stream",
     "text": [
      "DIRECTIVE\n",
      "😉👍👍\n",
      "DIRECTIVE\n",
      "nun kristallisieren sich die #Politiker und die #Parteien ohne Rückgrat heraus\n",
      "DIRECTIVE\n",
      "@hmilz\n",
      "DIRECTIVE\n",
      "keine Ahnung wie man das nennt!\n",
      "ASSERTIVE\n",
      "Woher weiß man eigentlich immer wie viele Menschen im Mittelmeer ertrunken sind,\n",
      "DIRECTIVE\n",
      "Matador?\n",
      "DIRECTIVE\n",
      "@vonBeutelratte @Kaputtnikkkk @MENA_WATCH @Ilona_GR_DE @palactnet @SDGMasterglass @czsystuvx @Netzengel @TiloJung @JungNaiv @guyelster @benabyad @GreatReturnMa @UNGeneva\n",
      "DIRECTIVE\n",
      "Dann weiß ich wie's ausgeht ...\n",
      "ASSERTIVE\n",
      "#fcsp\n",
      "DIRECTIVE\n",
      "Laut dem unmoralischen Beduinen aber!\n",
      "DIRECTIVE\n",
      "Der Genosse Robespierre unterbreitet den Vorschlag: wenn die Rübe runter ist, ist auch die Scheisse draussen\n",
      "ASSERTIVE\n",
      "@SteinbachErika\n",
      "DIRECTIVE\n",
      "Schön wäre es, doch der korrupte, staatstreue Stasi-Apararat #Verfassungsschutz wird doch auch nur vom #Parteikartel #GroKo geschmiert.\n",
      "DIRECTIVE\n",
      "USA Waffen selbstversändlich.\n",
      "DIRECTIVE\n",
      "Roth,Haye,Friedman,die geballte Ladung der Zersetzung!\n"
     ]
    },
    {
     "name": "stderr",
     "output_type": "stream",
     "text": [
      "WARNING:tornado.access:429 POST /v1beta/tunedModels/speechacts-coarse3-9437:generateContent?%24alt=json%3Benum-encoding%3Dint (127.0.0.1) 531.61ms\n"
     ]
    },
    {
     "name": "stdout",
     "output_type": "stream",
     "text": [
      "DIRECTIVE\n",
      "@MDRAktuell\n"
     ]
    },
    {
     "name": "stderr",
     "output_type": "stream",
     "text": [
      "WARNING:tornado.access:429 POST /v1beta/tunedModels/speechacts-coarse3-9437:generateContent?%24alt=json%3Benum-encoding%3Dint (127.0.0.1) 506.28ms\n"
     ]
    },
    {
     "name": "stdout",
     "output_type": "stream",
     "text": [
      "DIRECTIVE\n",
      "@BR24\n",
      "DIRECTIVE\n",
      "|LBR| Ärztin Hänel wurde zu einer Geldstrafe verurteilt,weil sie für Abtreibungen„geworben“hatte.\n"
     ]
    },
    {
     "name": "stderr",
     "output_type": "stream",
     "text": [
      "WARNING:tornado.access:429 POST /v1beta/tunedModels/speechacts-coarse3-9437:generateContent?%24alt=json%3Benum-encoding%3Dint (127.0.0.1) 456.52ms\n",
      "WARNING:tornado.access:429 POST /v1beta/tunedModels/speechacts-coarse3-9437:generateContent?%24alt=json%3Benum-encoding%3Dint (127.0.0.1) 456.53ms\n",
      "WARNING:tornado.access:429 POST /v1beta/tunedModels/speechacts-coarse3-9437:generateContent?%24alt=json%3Benum-encoding%3Dint (127.0.0.1) 457.13ms\n",
      "WARNING:tornado.access:429 POST /v1beta/tunedModels/speechacts-coarse3-9437:generateContent?%24alt=json%3Benum-encoding%3Dint (127.0.0.1) 456.00ms\n",
      "WARNING:tornado.access:429 POST /v1beta/tunedModels/speechacts-coarse3-9437:generateContent?%24alt=json%3Benum-encoding%3Dint (127.0.0.1) 456.79ms\n",
      "WARNING:tornado.access:429 POST /v1beta/tunedModels/speechacts-coarse3-9437:generateContent?%24alt=json%3Benum-encoding%3Dint (127.0.0.1) 607.17ms\n",
      "WARNING:tornado.access:429 POST /v1beta/tunedModels/speechacts-coarse3-9437:generateContent?%24alt=json%3Benum-encoding%3Dint (127.0.0.1) 456.95ms\n"
     ]
    },
    {
     "name": "stdout",
     "output_type": "stream",
     "text": [
      "EXPRESSIVE\n",
      "ihr dürft genau 15 Minuten nach Mitternacht schießen\n",
      "ASSERTIVE\n",
      "|LBR| You've made my day.\n",
      "DIRECTIVE\n",
      "Geilomat, Twitter hat es geschafft #Merz an die Spitze der Trends zu hypen.\n",
      "DIRECTIVE\n",
      "Das ich irgendwas X finde wenn ich nach X suche weiß ich selbst\n",
      "SUREASSERTIVE\n",
      "@Jil_Nicole_Gil\n",
      "DIRECTIVE\n",
      "#USwahl16\n",
      "DIRECTIVE\n",
      "Der Zuckerduft ausm Maul kommt aber nur bei Typ 1.\n",
      "ASSERTIVE\n",
      "Was für ein Schieber ...\n",
      "DIRECTIVE\n",
      "Irre...\n",
      "DIRECTIVE\n",
      "Unfassbar.\n",
      "EXPRESSIVE\n",
      "es werden weiterhin unschuldige Frauen-und Kinder, für den Profit der korrupten #Asylindustrie geopfert.\n",
      "DIRECTIVE\n",
      "Das ist mal wieder Sozial Politik der SPD für Reiche Schmarotzer.\n",
      "EXPRESSIVE\n",
      "😂\n",
      "EXPRESSIVE\n",
      "auch heute wieder nur drittklassige #Laiendarsteller in einem extrem beschissenen #Tatort\n",
      "ASSERTIVE\n",
      "|LBR| Das heißt Manni.\n",
      "ASSERTIVE\n",
      "|LBR| Insofern...\n"
     ]
    },
    {
     "name": "stderr",
     "output_type": "stream",
     "text": [
      "WARNING:tornado.access:429 POST /v1beta/tunedModels/speechacts-coarse3-9437:generateContent?%24alt=json%3Benum-encoding%3Dint (127.0.0.1) 531.48ms\n",
      "WARNING:tornado.access:429 POST /v1beta/tunedModels/speechacts-coarse3-9437:generateContent?%24alt=json%3Benum-encoding%3Dint (127.0.0.1) 455.85ms\n",
      "WARNING:tornado.access:429 POST /v1beta/tunedModels/speechacts-coarse3-9437:generateContent?%24alt=json%3Benum-encoding%3Dint (127.0.0.1) 632.43ms\n",
      "WARNING:tornado.access:429 POST /v1beta/tunedModels/speechacts-coarse3-9437:generateContent?%24alt=json%3Benum-encoding%3Dint (127.0.0.1) 558.56ms\n"
     ]
    },
    {
     "name": "stdout",
     "output_type": "stream",
     "text": [
      "UNDEROTHER\n",
      "ich kotzt dieses Sandhausen soooooo an ...\n"
     ]
    },
    {
     "name": "stderr",
     "output_type": "stream",
     "text": [
      "WARNING:tornado.access:429 POST /v1beta/tunedModels/speechacts-coarse3-9437:generateContent?%24alt=json%3Benum-encoding%3Dint (127.0.0.1) 506.92ms\n",
      "WARNING:tornado.access:429 POST /v1beta/tunedModels/speechacts-coarse3-9437:generateContent?%24alt=json%3Benum-encoding%3Dint (127.0.0.1) 531.21ms\n",
      "WARNING:tornado.access:429 POST /v1beta/tunedModels/speechacts-coarse3-9437:generateContent?%24alt=json%3Benum-encoding%3Dint (127.0.0.1) 455.99ms\n",
      "WARNING:tornado.access:429 POST /v1beta/tunedModels/speechacts-coarse3-9437:generateContent?%24alt=json%3Benum-encoding%3Dint (127.0.0.1) 457.21ms\n",
      "WARNING:tornado.access:429 POST /v1beta/tunedModels/speechacts-coarse3-9437:generateContent?%24alt=json%3Benum-encoding%3Dint (127.0.0.1) 456.75ms\n"
     ]
    },
    {
     "name": "stdout",
     "output_type": "stream",
     "text": [
      "EXPRESSIVE\n",
      "Ist ja überaus interessant was man innerhalb eines Tages so über den Kahrs erfährt.\n",
      "SASSERTIVE\n",
      "Irgendein anonymes Linksdödel mit arischem Grössenwahn und Geltungsdrang,\n",
      "DIRECTIVE\n",
      "Bundesfamilienministerin Franziska #Giffey #SPD:\"Wir sollten nicht gleich das ganze Hartz IV System über den Haufen werfen\"\n",
      "DIRECTIVE\n",
      "@MiriamWoelke\n",
      "DIRECTIVE\n",
      "['ASSERTIVE', 'EXPRESSIVE', 'DIRECTIVE', 'EXPRESSIVE', 'DIRECTIVE', 'EXPRESSIVE', 'DIRECTIVE', 'ASSERTIVE', 'DIRECTIVE', 'DIRECTIVE', 'DIRECTIVE', 'DIRECTIVE', 'OTHER', 'EXPRESSIVE', 'ASSERTIVE', 'EXPRESSIVE', 'DIRECTIVE', 'EXPRESSIVE', 'NULLASSERTIVE', 'DIRECTIVE', 'EXPRESSIVE', 'ASSERTIVE', 'ASSERTIVE', 'DIRECTIVE', 'ASSERTIVE', 'DIRECTIVE', 'EXPRESSIVE', 'DIRECTIVE', 'DIRECTIVE', 'DIRECTIVE', 'DIRECTIVE', 'EXPRESSIVE', 'DIRECTIVE', 'DIRECTIVE', 'DIRECTIVE', 'NULLASSERTIVE', 'ASSERTIVE', 'DIRECTIVE', 'DIRECTIVE', 'DIRECTIVE', 'EXPRESSIVE', 'DIRECTIVE', 'DIRECTIVE', 'DIRECTIVE', 'EXPRESSIVE', 'ASSERTIVE', 'EXPRESSIVE', 'ASSERTIVE', 'ASSERTIVE', 'EXPRESSIVE', 'DIRECTIVE', 'ASSERTIVE', 'DIRECTIVE', 'DIRECTIVE', 'DIRECTIVE', 'NULLASSERTIVE', 'DIRECTIVE', 'DIRECTIVE', 'ASSERTIVE', 'DIRECTIVE', 'DIRECTIVE', 'DIRECTIVE', 'DIRECTIVE', 'DIRECTIVE', 'DIRECTIVE', 'ASSERTIVE', 'ASSERTIVE', 'DIRECTIVE', 'EXPRESSIVE', 'ASSERTIVE', 'DIRECTIVE', 'EXPRESSIVE', 'ASSERTIVE', 'DIRECTIVE', 'ASSERTIVE', 'DIRECTIVE', 'DIRECTIVE', 'ASSERTIVE', 'ASSERTIVE', 'EXPRESSIVE', 'DIRECTIVE', 'ASSERTIVE', 'EXPRESSIVE', 'ASSERTIVE', 'EXPRESSIVE', 'DIRECTIVE', 'DIRECTIVE', 'DIRECTIVE', 'EXPRESSIVE', 'DIRECTIVE', 'DIRECTIVE', 'ASSERTIVE', 'ASSERTIVE', 'DIRECTIVE', 'DIRECTIVE', 'DIRECTIVE', 'ASSERTIVE', 'DIRECTIVE', 'EXPRESSIVE', 'DIRECTIVE', 'DIRECTIVE', 'DIRECTIVE', 'ASSERTIVE', 'DIRECTIVE', 'ASSERTIVE', 'ASSERTIVE', 'DIRECTIVE', 'EXPRESSIVE', 'DIRECTIVE', 'ASSERTIVE', 'DIRECTIVE', 'DIRECTIVE', 'ASSERTIVE', 'ASSERTIVE', 'EXPRESSIVE', 'EXPRESSIVE', 'ASSERTIVE', 'DIRECTIVE', 'EXPRESSIVE', 'ASSERTIVE', 'ASSERTIVE', 'DIRECTIVE', 'EXPRESSIVE', 'EXPRESSIVE', 'NULLASSERTIVE', 'DIRECTIVE', 'ASSERTIVE', 'DIRECTIVE', 'DIRECTIVE', 'ASSERTIVE', 'DIRECTIVE', 'DIRECTIVE', 'DIRECTIVE', 'DIRECTIVE', 'ASSERTIVE', 'ASSERTIVE', 'DIRECTIVE', 'DIRECTIVE', 'DIRECTIVE', 'EXPRESSIVE', 'ASSERTIVE', 'DIRECTIVE', 'None', 'DIRECTIVE', 'DIRECTIVE', 'EXPRESSIVE', 'SUREASSERTIVE', 'ASSERTIVE', 'DIRECTIVE', 'DIRECTIVE', 'EXPRESSIVE', 'EXPRESSIVE', 'EXPRESSIVE', 'ASSERTIVE', 'DIRECTIVE', 'ASSERTIVE', 'DIRECTIVE', 'DIRECTIVE', 'ASSERTIVE', 'EXPRESSIVE', 'DIRECTIVE', 'DIRECTIVE', 'DIRECTIVE', 'NULLASSERTIVE', 'DIRECTIVE', 'EXPRESSIVE', 'DIRECTIVE', 'DIRECTIVE', 'NULLASSERTIVE', 'ASSERTIVE', 'DIRECTIVE', 'EXPRESSIVE', 'EXPRESSIVE', 'EXPRESSIVE', 'EXPRESSIVE', 'DIRECTIVE', 'EXPRESSIVE', 'EXPRESSIVE', 'DIRECTIVE', 'DIRECTIVE', 'DIRECTIVE', 'DIRECTIVE', 'DIRECTIVE', 'DIRECTIVE', 'DIRECTIVE', 'DIRECTIVE', 'EXPRESSIVE', 'ASSERTIVE', 'DIRECTIVE', 'DIRECTIVE', 'DIRECTIVE', 'DIRECTIVE', 'DIRECTIVE', 'ASSERTIVE', 'ASSERTIVE', 'DIRECTIVE', 'ASSERTIVE', 'ASSERTIVE', 'DIRECTIVE', 'DIRECTIVE', 'DIRECTIVE', 'DIRECTIVE', 'DIRECTIVE', 'DIRECTIVE', 'ASSERTIVE', 'DIRECTIVE', 'ASSERTIVE', 'DIRECTIVE', 'DIRECTIVE', 'DIRECTIVE', 'DIRECTIVE', 'DIRECTIVE', 'DIRECTIVE', 'ASSERTIVE', 'DIRECTIVE', 'ASSERTIVE', 'DIRECTIVE', 'DIRECTIVE', 'DIRECTIVE', 'DIRECTIVE', 'ASSERTIVE', 'ASSERTIVE', 'EXPRESSIVE', 'DIRECTIVE', 'EXPRESSIVE', 'EXPRESSIVE', 'DIRECTIVE', 'DIRECTIVE', 'DIRECTIVE', 'ASSERTIVE', 'ASSERTIVE', 'DIRECTIVE', 'DIRECTIVE', 'DIRECTIVE', 'DIRECTIVE', 'DIRECTIVE', 'EXPRESSIVE', 'DIRECTIVE', 'DIRECTIVE', 'DIRECTIVE', 'EXPRESSIVE', 'ASSERTIVE', 'DIRECTIVE', 'ASSERTIVE', 'ASSERTIVE', 'EXPRESSIVE', 'DIRECTIVE', 'ASSERTIVE', 'EXPRESSIVE', 'ASSERTIVE', 'NULL', 'DIRECTIVE', 'ASSERTIVE', 'DIRECTIVE', 'EXPRESSIVE', 'ASSERTIVE', 'EXPRESSIVE', 'DIRECTIVE', 'DIRECTIVE', 'ASSERTIVE', 'DIRECTIVE', 'DIRECTIVE', 'DIRECTIVE', 'ASSERTIVE', 'DIRECTIVE', 'DIRECTIVE', 'ASSERTIVE', 'DIRECTIVE', 'DIRECTIVE', 'ASSERTIVE', 'DIRECTIVE', 'DIRECTIVE', 'EXPRESSIVE', 'DIRECTIVE', 'EXPRESSIVE', 'DIRECTIVE', 'DIRECTIVE', 'ASSERTIVE', 'ASSERTIVE', 'DIRECTIVE', 'ASSERTIVE', 'DIRECTIVE', 'DIRECTIVE', 'DIRECTIVE', 'SDIRECTIVE', 'DIRECTIVE', 'DIRECTIVE', 'DIRECTIVE', 'DIRECTIVE', 'DIRECTIVE', 'ASSERTIVE', 'DIRECTIVE', 'DIRECTIVE', 'DIRECTIVE', 'DIRECTIVE', 'DIRECTIVE', 'DIRECTIVE', 'ASSERTIVE', 'EXPRESSIVE', 'EXPRESSIVE', 'ASSERTIVE', 'DIRECTIVE', 'ASSERTIVE', 'EXPRESSIVE', 'EXPRESSIVE', 'ASSERTIVE', 'ASSERTIVE', 'DIRECTIVE', 'DIRECTIVE', 'DIRECTIVE', 'DIRECTIVE', 'DIRECTIVE', 'DIRECTIVE', 'DIRECTIVE', 'ASSERTIVE', 'DIRECTIVE', 'ASSERTIVE', 'ASSERTIVE', 'EXPRESSIVE', 'DIRECTIVE', 'ASSERTIVE', 'DIRECTIVE', 'EXPRESSIVE', 'ASSERTIVE', 'ASSERTIVE', 'DIRECTIVE', 'DIRECTIVE', 'ASSERTIVE', 'DIRECTIVE', 'DIRECTIVE', 'DIRECTIVE', 'DIRECTIVE', 'ASSERTIVE', 'DIRECTIVE', 'EXPRESSIVE', 'DIRECTIVE', 'ASSERTIVE', 'DIRECTIVE', 'DIRECTIVE', 'DIRECTIVE', 'DIRECTIVE', 'DIRECTIVE', 'DIRECTIVE', 'ASSERTIVE', 'DIRECTIVE', 'DIRECTIVE', 'DIRECTIVE', 'DIRECTIVE', 'DIRECTIVE', 'DIRECTIVE', 'DIRECTIVE', 'EXPRESSIVE', 'DIRECTIVE', 'DIRECTIVE', 'DIRECTIVE', 'DIRECTIVE', 'ASSERTIVE', 'DIRECTIVE', 'DIRECTIVE', 'DIRECTIVE', 'ASSERTIVE', 'DIRECTIVE', 'DIRECTIVE', 'ASSERTIVE', 'DIRECTIVE', 'DIRECTIVE', 'DIRECTIVE', 'DIRECTIVE', 'DIRECTIVE', 'DIRECTIVE', 'EXPRESSIVE', 'ASSERTIVE', 'DIRECTIVE', 'DIRECTIVE', 'SUREASSERTIVE', 'DIRECTIVE', 'DIRECTIVE', 'ASSERTIVE', 'DIRECTIVE', 'DIRECTIVE', 'EXPRESSIVE', 'DIRECTIVE', 'EXPRESSIVE', 'EXPRESSIVE', 'ASSERTIVE', 'ASSERTIVE', 'UNDEROTHER', 'EXPRESSIVE', 'SASSERTIVE', 'DIRECTIVE', 'DIRECTIVE', 'DIRECTIVE']\n",
      "392\n"
     ]
    }
   ],
   "source": [
    "import time\n",
    "from google.generativeai.types import HarmCategory, HarmBlockThreshold\n",
    "# Backoff strategy for retries\n",
    "from google.api_core.retry import Retry\n",
    "\n",
    "name=\"tunedModels/speechacts-coarse3-9437\"\n",
    "model = genai.GenerativeModel(model_name=name)\n",
    "\n",
    "# Adjust safety settings in Gemini because it is offensive language\n",
    "for t in tweets:\n",
    "    print(t)\n",
    "    # Retry mechanism to handle connection errors and empty responses\n",
    "    retry = Retry(initial=1.0, maximum=60.0, multiplier=1.3, deadline=300)  # Retry for up to 5 minutes\n",
    "    try:\n",
    "        result = model.generate_content(\n",
    "            t,\n",
    "            safety_settings={\n",
    "                HarmCategory.HARM_CATEGORY_HATE_SPEECH: HarmBlockThreshold.BLOCK_NONE,\n",
    "                HarmCategory.HARM_CATEGORY_HARASSMENT: HarmBlockThreshold.BLOCK_NONE,\n",
    "                HarmCategory.HARM_CATEGORY_SEXUALLY_EXPLICIT: HarmBlockThreshold.BLOCK_NONE,\n",
    "                HarmCategory.HARM_CATEGORY_DANGEROUS_CONTENT: HarmBlockThreshold.BLOCK_NONE,\n",
    "            },\n",
    "            request_options={\"retry\": retry}  # Apply retry settings\n",
    "        )\n",
    "        # Check if the response contains candidates before accessing text\n",
    "        if result.candidates:\n",
    "            print(result.text)\n",
    "            predicted_labels.append(result.text)\n",
    "        else:\n",
    "            print(f\"Warning: Model returned an empty response for input: {t}\")\n",
    "            # Handle the empty response, e.g., skip it or assign a default value\n",
    "            predicted_labels.append(\"None\")  # Or any other suitable handling\n",
    "    except ConnectionError as e:\n",
    "        print(f\"Connection error encountered: {e}\")\n",
    "        print(\"Retrying after a short delay...\")\n",
    "        time.sleep(5)  # Wait for 5 seconds before retrying\n",
    "        continue  # Continue to the next iteration\n",
    "\n",
    "    # Add a delay of 1 second between requests\n",
    "    time.sleep(1)\n",
    "\n",
    "\n",
    "print(predicted_labels)\n",
    "print(len(predicted_labels))"
   ]
  },
  {
   "cell_type": "code",
   "execution_count": 25,
   "metadata": {
    "colab": {
     "base_uri": "https://localhost:8080/"
    },
    "id": "6inN3mGMHsct",
    "outputId": "bea6ba51-403b-4a15-824f-63eceed29288"
   },
   "outputs": [
    {
     "name": "stdout",
     "output_type": "stream",
     "text": [
      "              precision    recall  f1-score   support\n",
      "\n",
      "   ASSERTIVE     0.6774    0.4599    0.5478       137\n",
      "  EXPRESSIVE     0.5312    0.4250    0.4722        80\n",
      "  COMMISSIVE     0.0000    0.0000    0.0000         4\n",
      "   DIRECTIVE     0.4932    0.8583    0.6264       127\n",
      "      UNSURE     0.0000    0.0000    0.0000        30\n",
      "       OTHER     0.0000    0.0000    0.0000        14\n",
      "\n",
      "   micro avg     0.5435    0.5255    0.5344       392\n",
      "   macro avg     0.2836    0.2905    0.2744       392\n",
      "weighted avg     0.5050    0.5255    0.4908       392\n",
      "\n"
     ]
    }
   ],
   "source": [
    "from sklearn.metrics import classification_report\n",
    "\n",
    "if task==\"sa_coarse\":\n",
    "    sorted_labels=['ASSERTIVE', 'EXPRESSIVE', 'COMMISSIVE', 'DIRECTIVE', 'UNSURE', 'OTHER']\n",
    "elif task==\"sa_fine_modified\":\n",
    "    sorted_labels=['ASSERT', 'SUSTAIN', 'GUESS', 'PREDICT', 'AGREE', 'REJOICE', 'COMPLAIN', 'WISH', 'expressEMOJI', 'COMMISSIVE', 'REQUEST', 'REQUIRE', 'SUGGEST', 'ADDRESS', 'UNSURE', 'OTHER', 'EXCLUDED']\n",
    "\n",
    "#classification_report(gold_labels, predicted_labels, labels=sorted_labels, zero_division=0, digits=4, output_dict=True)\n",
    "\n",
    "print(classification_report(gold_labels, predicted_labels, labels=sorted_labels, zero_division=0, digits=4))\n",
    "#print(classification_report(gold_labels, predicted_labels, zero_division=0, digits=4))"
   ]
  },
  {
   "cell_type": "code",
   "execution_count": 24,
   "metadata": {
    "colab": {
     "base_uri": "https://localhost:8080/"
    },
    "id": "Nbdv0am0_HWP",
    "outputId": "8d9035f8-63a8-45ea-99a0-55e6d47c556e"
   },
   "outputs": [
    {
     "data": {
      "text/plain": [
       "{'ASSERTIVE': {'precision': 0.6774193548387096,\n",
       "  'recall': 0.45985401459854014,\n",
       "  'f1-score': 0.5478260869565217,\n",
       "  'support': 137.0},\n",
       " 'EXPRESSIVE': {'precision': 0.53125,\n",
       "  'recall': 0.425,\n",
       "  'f1-score': 0.4722222222222222,\n",
       "  'support': 80.0},\n",
       " 'COMMISSIVE': {'precision': 0.0,\n",
       "  'recall': 0.0,\n",
       "  'f1-score': 0.0,\n",
       "  'support': 4.0},\n",
       " 'DIRECTIVE': {'precision': 0.49321266968325794,\n",
       "  'recall': 0.8582677165354331,\n",
       "  'f1-score': 0.6264367816091954,\n",
       "  'support': 127.0},\n",
       " 'UNSURE': {'precision': 0.0, 'recall': 0.0, 'f1-score': 0.0, 'support': 30.0},\n",
       " 'OTHER': {'precision': 0.0, 'recall': 0.0, 'f1-score': 0.0, 'support': 14.0},\n",
       " 'micro avg': {'precision': 0.5435356200527705,\n",
       "  'recall': 0.5255102040816326,\n",
       "  'f1-score': 0.5343709468223087,\n",
       "  'support': 392.0},\n",
       " 'macro avg': {'precision': 0.28364700408699456,\n",
       "  'recall': 0.29052028852232886,\n",
       "  'f1-score': 0.2744141817979899,\n",
       "  'support': 392.0},\n",
       " 'weighted avg': {'precision': 0.5049603588333597,\n",
       "  'recall': 0.5255102040816326,\n",
       "  'f1-score': 0.4907842422326251,\n",
       "  'support': 392.0}}"
      ]
     },
     "execution_count": 24,
     "metadata": {},
     "output_type": "execute_result"
    }
   ],
   "source": [
    "classification_report(gold_labels, predicted_labels, labels=sorted_labels, zero_division=0, digits=4, output_dict=True)"
   ]
  }
 ],
 "metadata": {
  "colab": {
   "provenance": []
  },
  "kernelspec": {
   "display_name": "Python 3 (ipykernel)",
   "language": "python",
   "name": "python3"
  },
  "language_info": {
   "codemirror_mode": {
    "name": "ipython",
    "version": 3
   },
   "file_extension": ".py",
   "mimetype": "text/x-python",
   "name": "python",
   "nbconvert_exporter": "python",
   "pygments_lexer": "ipython3",
   "version": "3.9.13"
  },
  "varInspector": {
   "cols": {
    "lenName": 16,
    "lenType": 16,
    "lenVar": 40
   },
   "kernels_config": {
    "python": {
     "delete_cmd_postfix": "",
     "delete_cmd_prefix": "del ",
     "library": "var_list.py",
     "varRefreshCmd": "print(var_dic_list())"
    },
    "r": {
     "delete_cmd_postfix": ") ",
     "delete_cmd_prefix": "rm(",
     "library": "var_list.r",
     "varRefreshCmd": "cat(var_dic_list()) "
    }
   },
   "types_to_exclude": [
    "module",
    "function",
    "builtin_function_or_method",
    "instance",
    "_Feature"
   ],
   "window_display": true
  },
  "widgets": {
   "application/vnd.jupyter.widget-state+json": {
    "02ac726f68cd480e912f4e9fe19b97f0": {
     "model_module": "@jupyter-widgets/base",
     "model_module_version": "1.2.0",
     "model_name": "LayoutModel",
     "state": {
      "_model_module": "@jupyter-widgets/base",
      "_model_module_version": "1.2.0",
      "_model_name": "LayoutModel",
      "_view_count": null,
      "_view_module": "@jupyter-widgets/base",
      "_view_module_version": "1.2.0",
      "_view_name": "LayoutView",
      "align_content": null,
      "align_items": null,
      "align_self": null,
      "border": null,
      "bottom": null,
      "display": null,
      "flex": null,
      "flex_flow": null,
      "grid_area": null,
      "grid_auto_columns": null,
      "grid_auto_flow": null,
      "grid_auto_rows": null,
      "grid_column": null,
      "grid_gap": null,
      "grid_row": null,
      "grid_template_areas": null,
      "grid_template_columns": null,
      "grid_template_rows": null,
      "height": null,
      "justify_content": null,
      "justify_items": null,
      "left": null,
      "margin": null,
      "max_height": null,
      "max_width": null,
      "min_height": null,
      "min_width": null,
      "object_fit": null,
      "object_position": null,
      "order": null,
      "overflow": null,
      "overflow_x": null,
      "overflow_y": null,
      "padding": null,
      "right": null,
      "top": null,
      "visibility": null,
      "width": null
     }
    },
    "03ee09bb39484f93a256467d14de1dfa": {
     "model_module": "@jupyter-widgets/base",
     "model_module_version": "1.2.0",
     "model_name": "LayoutModel",
     "state": {
      "_model_module": "@jupyter-widgets/base",
      "_model_module_version": "1.2.0",
      "_model_name": "LayoutModel",
      "_view_count": null,
      "_view_module": "@jupyter-widgets/base",
      "_view_module_version": "1.2.0",
      "_view_name": "LayoutView",
      "align_content": null,
      "align_items": null,
      "align_self": null,
      "border": null,
      "bottom": null,
      "display": null,
      "flex": null,
      "flex_flow": null,
      "grid_area": null,
      "grid_auto_columns": null,
      "grid_auto_flow": null,
      "grid_auto_rows": null,
      "grid_column": null,
      "grid_gap": null,
      "grid_row": null,
      "grid_template_areas": null,
      "grid_template_columns": null,
      "grid_template_rows": null,
      "height": null,
      "justify_content": null,
      "justify_items": null,
      "left": null,
      "margin": null,
      "max_height": null,
      "max_width": null,
      "min_height": null,
      "min_width": null,
      "object_fit": null,
      "object_position": null,
      "order": null,
      "overflow": null,
      "overflow_x": null,
      "overflow_y": null,
      "padding": null,
      "right": null,
      "top": null,
      "visibility": null,
      "width": null
     }
    },
    "1c6ee0cf257040eab91e8981a7b6fc6a": {
     "model_module": "@jupyter-widgets/controls",
     "model_module_version": "1.5.0",
     "model_name": "ProgressStyleModel",
     "state": {
      "_model_module": "@jupyter-widgets/controls",
      "_model_module_version": "1.5.0",
      "_model_name": "ProgressStyleModel",
      "_view_count": null,
      "_view_module": "@jupyter-widgets/base",
      "_view_module_version": "1.2.0",
      "_view_name": "StyleView",
      "bar_color": null,
      "description_width": ""
     }
    },
    "3b827b7adc04420c8dc52b494f1df12d": {
     "model_module": "@jupyter-widgets/base",
     "model_module_version": "1.2.0",
     "model_name": "LayoutModel",
     "state": {
      "_model_module": "@jupyter-widgets/base",
      "_model_module_version": "1.2.0",
      "_model_name": "LayoutModel",
      "_view_count": null,
      "_view_module": "@jupyter-widgets/base",
      "_view_module_version": "1.2.0",
      "_view_name": "LayoutView",
      "align_content": null,
      "align_items": null,
      "align_self": null,
      "border": null,
      "bottom": null,
      "display": null,
      "flex": null,
      "flex_flow": null,
      "grid_area": null,
      "grid_auto_columns": null,
      "grid_auto_flow": null,
      "grid_auto_rows": null,
      "grid_column": null,
      "grid_gap": null,
      "grid_row": null,
      "grid_template_areas": null,
      "grid_template_columns": null,
      "grid_template_rows": null,
      "height": null,
      "justify_content": null,
      "justify_items": null,
      "left": null,
      "margin": null,
      "max_height": null,
      "max_width": null,
      "min_height": null,
      "min_width": null,
      "object_fit": null,
      "object_position": null,
      "order": null,
      "overflow": null,
      "overflow_x": null,
      "overflow_y": null,
      "padding": null,
      "right": null,
      "top": null,
      "visibility": null,
      "width": null
     }
    },
    "3e66b8195f414a91a363a824a11fd6af": {
     "model_module": "@jupyter-widgets/controls",
     "model_module_version": "1.5.0",
     "model_name": "DescriptionStyleModel",
     "state": {
      "_model_module": "@jupyter-widgets/controls",
      "_model_module_version": "1.5.0",
      "_model_name": "DescriptionStyleModel",
      "_view_count": null,
      "_view_module": "@jupyter-widgets/base",
      "_view_module_version": "1.2.0",
      "_view_name": "StyleView",
      "description_width": ""
     }
    },
    "a32940bc202343cebcbe3da3b15101dc": {
     "model_module": "@jupyter-widgets/controls",
     "model_module_version": "1.5.0",
     "model_name": "HTMLModel",
     "state": {
      "_dom_classes": [],
      "_model_module": "@jupyter-widgets/controls",
      "_model_module_version": "1.5.0",
      "_model_name": "HTMLModel",
      "_view_count": null,
      "_view_module": "@jupyter-widgets/controls",
      "_view_module_version": "1.5.0",
      "_view_name": "HTMLView",
      "description": "",
      "description_tooltip": null,
      "layout": "IPY_MODEL_03ee09bb39484f93a256467d14de1dfa",
      "placeholder": "​",
      "style": "IPY_MODEL_cae83070debb4105a8d1823954dd86ac",
      "value": "100%"
     }
    },
    "b2b9872a8dcc49368f1e68eaaf54a766": {
     "model_module": "@jupyter-widgets/controls",
     "model_module_version": "1.5.0",
     "model_name": "FloatProgressModel",
     "state": {
      "_dom_classes": [],
      "_model_module": "@jupyter-widgets/controls",
      "_model_module_version": "1.5.0",
      "_model_name": "FloatProgressModel",
      "_view_count": null,
      "_view_module": "@jupyter-widgets/controls",
      "_view_module_version": "1.5.0",
      "_view_name": "ProgressView",
      "bar_style": "success",
      "description": "",
      "description_tooltip": null,
      "layout": "IPY_MODEL_3b827b7adc04420c8dc52b494f1df12d",
      "max": 490,
      "min": 0,
      "orientation": "horizontal",
      "style": "IPY_MODEL_1c6ee0cf257040eab91e8981a7b6fc6a",
      "value": 490
     }
    },
    "c4648f194ff7475ab5b8dbf769ea0500": {
     "model_module": "@jupyter-widgets/controls",
     "model_module_version": "1.5.0",
     "model_name": "HBoxModel",
     "state": {
      "_dom_classes": [],
      "_model_module": "@jupyter-widgets/controls",
      "_model_module_version": "1.5.0",
      "_model_name": "HBoxModel",
      "_view_count": null,
      "_view_module": "@jupyter-widgets/controls",
      "_view_module_version": "1.5.0",
      "_view_name": "HBoxView",
      "box_style": "",
      "children": [
       "IPY_MODEL_a32940bc202343cebcbe3da3b15101dc",
       "IPY_MODEL_b2b9872a8dcc49368f1e68eaaf54a766",
       "IPY_MODEL_c8c7483aeba9483f9217710fdcf10e41"
      ],
      "layout": "IPY_MODEL_e777f15728d5417d9ad122146b04a9fe"
     }
    },
    "c8c7483aeba9483f9217710fdcf10e41": {
     "model_module": "@jupyter-widgets/controls",
     "model_module_version": "1.5.0",
     "model_name": "HTMLModel",
     "state": {
      "_dom_classes": [],
      "_model_module": "@jupyter-widgets/controls",
      "_model_module_version": "1.5.0",
      "_model_name": "HTMLModel",
      "_view_count": null,
      "_view_module": "@jupyter-widgets/controls",
      "_view_module_version": "1.5.0",
      "_view_name": "HTMLView",
      "description": "",
      "description_tooltip": null,
      "layout": "IPY_MODEL_02ac726f68cd480e912f4e9fe19b97f0",
      "placeholder": "​",
      "style": "IPY_MODEL_3e66b8195f414a91a363a824a11fd6af",
      "value": " 490/490 [2:30:20&lt;00:00, 18.11s/it]"
     }
    },
    "cae83070debb4105a8d1823954dd86ac": {
     "model_module": "@jupyter-widgets/controls",
     "model_module_version": "1.5.0",
     "model_name": "DescriptionStyleModel",
     "state": {
      "_model_module": "@jupyter-widgets/controls",
      "_model_module_version": "1.5.0",
      "_model_name": "DescriptionStyleModel",
      "_view_count": null,
      "_view_module": "@jupyter-widgets/base",
      "_view_module_version": "1.2.0",
      "_view_name": "StyleView",
      "description_width": ""
     }
    },
    "e777f15728d5417d9ad122146b04a9fe": {
     "model_module": "@jupyter-widgets/base",
     "model_module_version": "1.2.0",
     "model_name": "LayoutModel",
     "state": {
      "_model_module": "@jupyter-widgets/base",
      "_model_module_version": "1.2.0",
      "_model_name": "LayoutModel",
      "_view_count": null,
      "_view_module": "@jupyter-widgets/base",
      "_view_module_version": "1.2.0",
      "_view_name": "LayoutView",
      "align_content": null,
      "align_items": null,
      "align_self": null,
      "border": null,
      "bottom": null,
      "display": null,
      "flex": null,
      "flex_flow": null,
      "grid_area": null,
      "grid_auto_columns": null,
      "grid_auto_flow": null,
      "grid_auto_rows": null,
      "grid_column": null,
      "grid_gap": null,
      "grid_row": null,
      "grid_template_areas": null,
      "grid_template_columns": null,
      "grid_template_rows": null,
      "height": null,
      "justify_content": null,
      "justify_items": null,
      "left": null,
      "margin": null,
      "max_height": null,
      "max_width": null,
      "min_height": null,
      "min_width": null,
      "object_fit": null,
      "object_position": null,
      "order": null,
      "overflow": null,
      "overflow_x": null,
      "overflow_y": null,
      "padding": null,
      "right": null,
      "top": null,
      "visibility": null,
      "width": null
     }
    }
   }
  }
 },
 "nbformat": 4,
 "nbformat_minor": 1
}
